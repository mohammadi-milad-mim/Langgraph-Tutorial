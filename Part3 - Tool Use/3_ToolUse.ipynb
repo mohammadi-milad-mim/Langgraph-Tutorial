{
 "cells": [
  {
   "cell_type": "markdown",
   "metadata": {},
   "source": [
    "# Part 3: Tool Use"
   ]
  },
  {
   "cell_type": "markdown",
   "metadata": {},
   "source": [
    "## ChatModel Tool Use"
   ]
  },
  {
   "cell_type": "markdown",
   "metadata": {},
   "source": [
    "### Chat Model"
   ]
  },
  {
   "cell_type": "code",
   "execution_count": 1,
   "metadata": {},
   "outputs": [],
   "source": [
    "import os\n",
    "from langchain_openai import ChatOpenAI\n",
    "\n",
    "AVALAI_BASE_URL = \"https://api.avalai.ir/v1\"\n",
    "GPT_MODEL_NAME = \"gpt-4o-mini\"\n",
    "\n",
    "gpt4o_chat = ChatOpenAI(model=GPT_MODEL_NAME,\n",
    "                        base_url=AVALAI_BASE_URL,\n",
    "                        api_key=os.environ[\"AVALAI_API_KEY\"])"
   ]
  },
  {
   "cell_type": "markdown",
   "metadata": {},
   "source": [
    "### Search as Tool"
   ]
  },
  {
   "cell_type": "code",
   "execution_count": 2,
   "metadata": {},
   "outputs": [
    {
     "data": {
      "text/plain": [
       "[{'url': 'https://en.wikipedia.org/wiki/Milad_Mohammadi',\n",
       "  'content': 'Milad Mohammadi Keshmarzi, known as Milad Mohammadi (Persian: ميلاد محمدی کشمرزی; born 29 September 1993) is an Iranian professional footballer who plays for Persian Gulf Pro League club Persepolis and the Iranian national team. Milad Mohammadi joined Rah Ahan in the summer of 2014 with a five–year contract[4] and made his debut for them in the first fixture of the 2014–15 Iran Pro League against Esteghlal.[5] On 6 February 2016 Mohammadi signed a contract with Russian Premier League club Terek Grozny until 2019.[7][8] Milad made his debut for Terek Grozny as a substitute on 2 April 2016 in a 3–2 win over Anzhi Makhachkala.[9] Mohammadi scored his first goal for Terek and his first ever professional league goal on 29 April 2017 in a 5–2 victory against Ural Yekaterinburg.'},\n",
       " {'url': 'https://www.wikiwand.com/en/articles/Milad_Mohammadi',\n",
       "  'content': 'Milad Mohammadi Keshmarzi, known as Milad Mohammadi (Persian: ميلاد محمدی کشمرزی; born 29 September 1993) is an Iranian professional footballer who plays for Persian Gulf Pro League club Persepolis and the Iranian national team.'},\n",
       " {'url': 'https://playerswiki.com/milad-mohammadi',\n",
       "  'content': \"Milad Mohammadi is a professional footballer from Iran who plays as a fullback and winger for National Team of Iran and Niroo Zamini.. He previously played 44 matches for his former team, Rah Ahan.Moreover, Mohammadi has scored 3 goals in 15 appearances for Iran U-23 team. Milad Mohammadi is the agent of AFFG/Wasserman.. Milad Mohammadi's Early Life\"}]"
      ]
     },
     "execution_count": 2,
     "metadata": {},
     "output_type": "execute_result"
    }
   ],
   "source": [
    "import os\n",
    "from langchain_community.tools.tavily_search import TavilySearchResults\n",
    "\n",
    "def search_tool(query: str):\n",
    "    \"\"\"Searches the internet for the query and returns the top 3 results.\n",
    "    Args:\n",
    "        query: The search query.\n",
    "    \"\"\"\n",
    "    return TavilySearchResults(max_results=3).invoke(query)\n",
    "\n",
    "query = \"Who is Milad Mohammadi?\"\n",
    "search_tool(query)"
   ]
  },
  {
   "cell_type": "markdown",
   "metadata": {},
   "source": [
    "### Bind Model with Tools"
   ]
  },
  {
   "cell_type": "code",
   "execution_count": 4,
   "metadata": {},
   "outputs": [],
   "source": [
    "tools = [search_tool]\n",
    "llm_with_tools = gpt4o_chat.bind_tools(tools)"
   ]
  },
  {
   "cell_type": "code",
   "execution_count": 5,
   "metadata": {},
   "outputs": [
    {
     "data": {
      "text/plain": [
       "AIMessage(content=\"Hello! I'm just a program, so I don't have feelings, but I'm here and ready to help you. How can I assist you today?\", additional_kwargs={'refusal': None}, response_metadata={'token_usage': {'completion_tokens': 31, 'prompt_tokens': 65, 'total_tokens': 96, 'completion_tokens_details': {'accepted_prediction_tokens': 0, 'audio_tokens': 0, 'reasoning_tokens': 0, 'rejected_prediction_tokens': 0}, 'prompt_tokens_details': {'audio_tokens': 0, 'cached_tokens': 0}}, 'model_name': 'gpt-4o-mini-2024-07-18', 'system_fingerprint': 'fp_d02d531b47', 'finish_reason': 'stop', 'logprobs': None}, id='run-089db732-bd11-4eb3-bae2-34c4ca6ab075-0', usage_metadata={'input_tokens': 65, 'output_tokens': 31, 'total_tokens': 96, 'input_token_details': {'audio': 0, 'cache_read': 0}, 'output_token_details': {'audio': 0, 'reasoning': 0}})"
      ]
     },
     "execution_count": 5,
     "metadata": {},
     "output_type": "execute_result"
    }
   ],
   "source": [
    "response = llm_with_tools.invoke(\"Hello. How are you?\")\n",
    "response"
   ]
  },
  {
   "cell_type": "code",
   "execution_count": 6,
   "metadata": {},
   "outputs": [
    {
     "data": {
      "text/plain": [
       "AIMessage(content='', additional_kwargs={'tool_calls': [{'id': 'call_IFHuYyqU6gUOIGmfOJFmpVxl', 'function': {'arguments': '{\"query\":\"Milad Mohammadi\"}', 'name': 'search_tool'}, 'type': 'function'}], 'refusal': None}, response_metadata={'token_usage': {'completion_tokens': 19, 'prompt_tokens': 67, 'total_tokens': 86, 'completion_tokens_details': {'accepted_prediction_tokens': 0, 'audio_tokens': 0, 'reasoning_tokens': 0, 'rejected_prediction_tokens': 0}, 'prompt_tokens_details': {'audio_tokens': 0, 'cached_tokens': 0}}, 'model_name': 'gpt-4o-mini-2024-07-18', 'system_fingerprint': 'fp_0aa8d3e20b', 'finish_reason': 'tool_calls', 'logprobs': None}, id='run-6eee6e44-f205-4802-a092-c1480f31dc51-0', tool_calls=[{'name': 'search_tool', 'args': {'query': 'Milad Mohammadi'}, 'id': 'call_IFHuYyqU6gUOIGmfOJFmpVxl', 'type': 'tool_call'}], usage_metadata={'input_tokens': 67, 'output_tokens': 19, 'total_tokens': 86, 'input_token_details': {'audio': 0, 'cache_read': 0}, 'output_token_details': {'audio': 0, 'reasoning': 0}})"
      ]
     },
     "execution_count": 6,
     "metadata": {},
     "output_type": "execute_result"
    }
   ],
   "source": [
    "response = llm_with_tools.invoke(\"Who is Milad Mohammadi?\")\n",
    "response"
   ]
  },
  {
   "cell_type": "markdown",
   "metadata": {},
   "source": [
    "### Manually Running Tool Calls"
   ]
  },
  {
   "cell_type": "code",
   "execution_count": 7,
   "metadata": {},
   "outputs": [
    {
     "data": {
      "text/plain": [
       "{'id': 'call_IFHuYyqU6gUOIGmfOJFmpVxl',\n",
       " 'function': {'arguments': '{\"query\":\"Milad Mohammadi\"}',\n",
       "  'name': 'search_tool'},\n",
       " 'type': 'function'}"
      ]
     },
     "execution_count": 7,
     "metadata": {},
     "output_type": "execute_result"
    }
   ],
   "source": [
    "tool_call = response.additional_kwargs['tool_calls'][0]\n",
    "tool_call"
   ]
  },
  {
   "cell_type": "code",
   "execution_count": 8,
   "metadata": {},
   "outputs": [
    {
     "name": "stdout",
     "output_type": "stream",
     "text": [
      "Function name: search_tool\n",
      "Function arguments: {\"query\":\"Milad Mohammadi\"}\n"
     ]
    }
   ],
   "source": [
    "func_name = tool_call['function']['name']\n",
    "func_args = tool_call['function']['arguments']\n",
    "\n",
    "print(\"Function name:\", func_name)\n",
    "print(\"Function arguments:\", func_args)"
   ]
  },
  {
   "cell_type": "code",
   "execution_count": 9,
   "metadata": {},
   "outputs": [
    {
     "data": {
      "text/plain": [
       "[{'url': 'https://www.collinsdictionary.com/us/dictionary/english/query',\n",
       "  'content': 'A query is a question, especially one that you ask an organization, publication, or expert. If you have any queries about this insurance, please contact our call center. 2. transitive verb. If you query something, you check it by asking about it because you are not sure if it is correct.'},\n",
       " {'url': 'https://dictionary.cambridge.org/us/dictionary/learner-english/query',\n",
       "  'content': 'QUERY meaning: 1. a question: 2. to ask questions in order to check that something is true or correct: . Learn more.'},\n",
       " {'url': 'https://www.dictionary.com/browse/query',\n",
       "  'content': 'to mark (a manuscript, proof sheet, etc.) with a query.\\nto ask questions of.\\nOrigin of query\\nOther words from query\\nWords that may be confused with query\\nWords Nearby query\\nDictionary.com Unabridged\\nBased on the Random House Unabridged Dictionary, © Random House, Inc. 2023\\nHow to use query in a sentence\\nWhen a person uses their mobile phone for a voice query, for example, it’s not a good user experience if the page they are delivered to isn’t optimized for mobile.\\n query, What did the ghost come for, and was the second husband at all jealous of his coming?\\nBritish Dictionary definitions for query\\n/ (ˈkwɪərɪ) /\\na question, esp one expressing doubt, uncertainty, or an objection\\na less common name for question mark\\nto express uncertainty, doubt, or an objection concerning (something)\\nto express as a query: \"What\\'s up now?\" she queried\\nUS to put a question to (a person); ask\\nOrigin of query\\nCollins English Dictionary - Complete & Unabridged 2012 Digital Edition\\n© William Collins Sons & Co. Ltd. 1979, 1986 © HarperCollins\\nPublishers 1998, 2000, 2003, 2005, 2006, 2007, 2009, 2012\\nBrowse\\nFollow us\\nGet the Word of the Day every day!\\n an inquiry from a writer to an editor of a magazine, newspaper, etc., regarding the acceptability of or interest in an idea for an article, news story, or the like: usually presented in the form of a letter that outlines or describes the projected piece.\\nto ask or inquire about: No one queried his presence.\\n A web page ranking is highly influenced by the topical relevance of the page to a search query.\\n'}]"
      ]
     },
     "execution_count": 9,
     "metadata": {},
     "output_type": "execute_result"
    }
   ],
   "source": [
    "# NEVER DO THIS IN PRODUCTION! This is just for demonstration purposes.\n",
    "eval(f\"{func_name}(*{func_args})\")"
   ]
  },
  {
   "cell_type": "code",
   "execution_count": 10,
   "metadata": {},
   "outputs": [
    {
     "name": "stdout",
     "output_type": "stream",
     "text": [
      "[{'url': 'https://dblp.org/pid/164/0815', 'content': \"We've just launched a new service: our brand new dblp SPARQL query service. Read more about it in our latest blog post or try out some of the SPARQL queries linked on the dblp web pages below. ... Milad Mohammadi, Song Han, Tor M. Aamodt, William J. Dally: On-Demand Dynamic Branch Prediction. IEEE Comput. Archit. Lett. 14 (1): 50-53 (2015)\"}, {'url': 'https://www.linkedin.com/in/milad-mohammadi-32999715', 'content': 'Others named Milad Mohammadi in United States. Milad Mohammadi Ph.D. candidate in Mechanical Engineering Kansas City, MO. Milad Sadat-Mohammadi, PhD Austin, TX. Milad Mohammadi'}, {'url': 'https://scholar.google.com/citations?user=yLr1ykoAAAAJ&hl=en', 'content': 'Milad Mohammadi. Software Engineer, Google. Verified email at alumni.stanford.edu - Homepage. Data Science Artificial Intelligence Compilers Distributed Computing Computer Architecture. Articles Cited by Public access Co-authors. Title. Sort. Sort by citations Sort by year Sort by title.'}]\n"
     ]
    }
   ],
   "source": [
    "functions_dict = {\n",
    "    \"search_tool\": search_tool,\n",
    "}\n",
    "print(functions_dict[func_name](*{func_args}))"
   ]
  },
  {
   "cell_type": "markdown",
   "metadata": {},
   "source": [
    "## Graph as a tool"
   ]
  },
  {
   "cell_type": "markdown",
   "metadata": {},
   "source": [
    "### Import graph from file"
   ]
  },
  {
   "cell_type": "code",
   "execution_count": 11,
   "metadata": {},
   "outputs": [
    {
     "name": "stdout",
     "output_type": "stream",
     "text": [
      "---Node Query Rewrite---\n",
      "Rewritten query: \"I'm a beginner in baking. What are the steps to bake a chocolate cake?\"\n",
      "---Node Search Internet---\n",
      "Search results:\n",
      "[{'url': 'https://startcooking.com/chocolate-cake-for-beginners', 'content': 'Finally I have discovered the perfect chocolate cake recipe for beginner cooks. (Don’t make the frosting until the cake is baked, and stone cold.) Measure all the cake ingredients and set them aside: whenever i bake a cake there’s something wrong with it – sometimes too moist, extra egg,too much of baking soda, sometimes needs more cooking but if i bake it again it looks like all the butter is coming out of the cake,etc etc………but then the main problem with my cakes is that they are alwayz fail i.e.,they never rise up……………….do help!!!!!!!! This recipe will only work if you bake the cake in a regular oven. My recipe for chocolate cake ONLY uses baking soda.'}, {'url': 'https://www.allrecipes.com/recipe/17981/one-bowl-chocolate-cake-iii/', 'content': '\"\\nEditorial contributions by Corey Willliams\\nIngredients\\n2 cups white sugar\\n1 ¾ cups all-purpose flour\\n¾ cup unsweetened cocoa powder\\n1 ½ teaspoons baking powder\\n1 ½ teaspoons baking soda\\n1 teaspoon salt\\n2 large eggs\\n1 cup milk\\n½ cup vegetable oil\\n2 teaspoons vanilla extract\\n1 cup boiling water\\nDirections\\nGather all ingredients.\\n More inspiration: Frosting and Icing Recipes\\nHow to Store Chocolate Cake\\nThe best way to store this one-bowl chocolate cake depends on the frosting you choose. You\\'ll find the full recipe below, but here\\'s a brief overview of what you can expect:\\nFrom the Editor\\nDon\\'t worry if the batter looks a little thin after you stir in the boiling water. Follow Us\\nOne Bowl Chocolate Cake\\nThis homemade chocolate cake recipe is super easy to prepare in one bowl for a deliciously moist and fluffy chocolate cake. All Rights Reserved\\nPhotos of One Bowl Chocolate Cake\\nDianne\\nYou’ll Also Love\\nFollow Us'}, {'url': 'https://www.allrecipes.com/article/easiest-chocolate-cake-from-scratch/', 'content': \"How to Make the Easiest Chocolate Cake From Scratch\\nYou've officially run out of reasons to say you can't bake a cake.\\n Reviewers baked this versatile recipe as a 9-inch round layer cake, a 9x13 cake, two dozen cupcakes, a Bundt cake, and a sheet cake. How to Make the Easiest Chocolate Cake From Scratch\\nGet the recipe for One Bowl Chocolate Cake.\\n No need to reach for a box cake mix anymore when there's a super-easy, no-fuss, no-baking-skills-required, rich, and chocolatey chocolate cake that anyone can bake from scratch. More tips, tricks, and ideas from Nicole:\\nBy clicking “Accept All Cookies”, you agree to the storing of cookies on your device to enhance site navigation, analyze site usage, and assist in our marketing efforts.\"}]\n",
      "---Node Generate Answer---\n",
      "Final answer: Welcome to the world of baking! Here's a simple recipe to help you bake a delicious chocolate cake from scratch. This is a beginner-friendly recipe that only requires one bowl, making it easy to follow.\n",
      "\n",
      "### One-Bowl Chocolate Cake Recipe\n",
      "\n",
      "#### Ingredients:\n",
      "- 2 cups white sugar\n",
      "- 1 ¾ cups all-purpose flour\n",
      "- ¾ cup unsweetened cocoa powder\n",
      "- 1 ½ teaspoons baking powder\n",
      "- 1 ½ teaspoons baking soda\n",
      "- 1 teaspoon salt\n",
      "- 2 large eggs\n",
      "- 1 cup milk\n",
      "- ½ cup vegetable oil\n",
      "- 2 teaspoons vanilla extract\n",
      "- 1 cup boiling water\n",
      "\n",
      "#### Instructions:\n",
      "\n",
      "1. **Preheat the Oven:**\n",
      "   Preheat your oven to 350°F (175°C).\n",
      "\n",
      "2. **Gather Ingredients:**\n",
      "   Measure out all your ingredients and set them aside.\n",
      "\n",
      "3. **Mix Dry Ingredients:**\n",
      "   In a large mixing bowl, combine the sugar, flour, cocoa powder, baking powder, baking soda, and salt. Mix them together until well combined.\n",
      "\n",
      "4. **Add Wet Ingredients:**\n",
      "   Add the eggs, milk, vegetable oil, and vanilla extract to the dry ingredients. Mix until everything is well combined.\n",
      "\n",
      "5. **Add Boiling Water:**\n",
      "   Carefully stir in the boiling water. The batter will be thin, but that's okay! This helps create a moist cake.\n",
      "\n",
      "6. **Prepare the Pan:**\n",
      "   Grease and flour your cake pans (two 9-inch round pans or a 9x13 inch pan).\n",
      "\n",
      "7. **Pour the Batter:**\n",
      "   Divide the batter evenly between the prepared pans (if using round pans) or pour it all into the 9x13 pan.\n",
      "\n",
      "8. **Bake:**\n",
      "   Bake in the preheated oven for about 30-35 minutes (for round pans) or 35-40 minutes (for a 9x13 pan). Check for doneness by inserting a toothpick into the center – it should come out clean.\n",
      "\n",
      "9. **Cool:**\n",
      "   Once baked, remove the cakes from the oven and let them cool in the pans for about 10 minutes. Then, transfer them to a wire rack to cool completely.\n",
      "\n",
      "10. **Frost (Optional):**\n",
      "   Once the cake is completely cool, you can frost it with your favorite chocolate frosting.\n",
      "\n",
      "### Tips:\n",
      "- Make sure all your ingredients are at room temperature for the best results.\n",
      "- Don't open the oven door during baking as it can cause the cake to collapse.\n",
      "- If you're unsure about the cakes being done, it's better to check a few minutes early.\n",
      "\n",
      "Enjoy your baking adventure! If you need more tips or a frosting recipe, feel free to ask!\n"
     ]
    }
   ],
   "source": [
    "from advanced_search_graph import get_advanced_search_graph\n",
    "\n",
    "# Get the compiled graph\n",
    "advanced_search_graph = get_advanced_search_graph()\n",
    "\n",
    "user_input = {\"user_query\": \"I'am new to baking, How to bake a chocolate cake?\"}\n",
    "final_state = advanced_search_graph.invoke(user_input)"
   ]
  },
  {
   "cell_type": "markdown",
   "metadata": {},
   "source": [
    "### Graph as Tool"
   ]
  },
  {
   "cell_type": "code",
   "execution_count": 13,
   "metadata": {},
   "outputs": [],
   "source": [
    "def advanced_search_tool(query: str) -> str:\n",
    "    \"\"\"\n",
    "    A tool that performs an advanced search for cooking and baking based on the user's query.\n",
    "    Args:    \n",
    "        query (str): The user's query.\n",
    "    \"\"\"\n",
    "    input_state = {\n",
    "        \"user_query\": query,\n",
    "        \"rewritten_query\": None,\n",
    "        \"search_results\": None,\n",
    "        \"final_answer\": None,\n",
    "    }\n",
    "    output_state = advanced_search_graph.invoke(input_state)\n",
    "    return output_state[\"final_answer\"]"
   ]
  },
  {
   "cell_type": "markdown",
   "metadata": {},
   "source": [
    "### Bind ChatModel with Tool"
   ]
  },
  {
   "cell_type": "code",
   "execution_count": 15,
   "metadata": {},
   "outputs": [],
   "source": [
    "llm_with_advanced_search = gpt4o_chat.bind_tools([advanced_search_tool, search_tool])"
   ]
  },
  {
   "cell_type": "markdown",
   "metadata": {},
   "source": [
    "### System Prompt for Tool Use"
   ]
  },
  {
   "cell_type": "code",
   "execution_count": 20,
   "metadata": {},
   "outputs": [],
   "source": [
    "from langchain_core.messages import HumanMessage, SystemMessage\n",
    "\n",
    "system_prompt=\"\"\"You are a helpful assistant AI assistant that have access to 'advanced_search_tool' for searching about cooking and baking. \n",
    "And 'search_tool' for general questions that need internet search.\"\"\"\n",
    "messages = [\n",
    "    SystemMessage(system_prompt),\n",
    "    HumanMessage(\"How to bake cake?\"),\n",
    "]"
   ]
  },
  {
   "cell_type": "code",
   "execution_count": 21,
   "metadata": {},
   "outputs": [
    {
     "data": {
      "text/plain": [
       "AIMessage(content='', additional_kwargs={'tool_calls': [{'id': 'call_NS7IZS2KJcbVaUged4O0FiHF', 'function': {'arguments': '{\"query\":\"how to bake a cake\"}', 'name': 'advanced_search_tool'}, 'type': 'function'}], 'refusal': None}, response_metadata={'token_usage': {'completion_tokens': 20, 'prompt_tokens': 143, 'total_tokens': 163, 'completion_tokens_details': {'accepted_prediction_tokens': 0, 'audio_tokens': 0, 'reasoning_tokens': 0, 'rejected_prediction_tokens': 0}, 'prompt_tokens_details': {'audio_tokens': 0, 'cached_tokens': 0}}, 'model_name': 'gpt-4o-mini-2024-07-18', 'system_fingerprint': 'fp_f3927aa00d', 'finish_reason': 'tool_calls', 'logprobs': None}, id='run-1110a200-b8ad-4bff-83bd-311c45d73ef8-0', tool_calls=[{'name': 'advanced_search_tool', 'args': {'query': 'how to bake a cake'}, 'id': 'call_NS7IZS2KJcbVaUged4O0FiHF', 'type': 'tool_call'}], usage_metadata={'input_tokens': 143, 'output_tokens': 20, 'total_tokens': 163, 'input_token_details': {'audio': 0, 'cache_read': 0}, 'output_token_details': {'audio': 0, 'reasoning': 0}})"
      ]
     },
     "execution_count": 21,
     "metadata": {},
     "output_type": "execute_result"
    }
   ],
   "source": [
    "response = llm_with_advanced_search.invoke(messages)\n",
    "response"
   ]
  },
  {
   "cell_type": "code",
   "execution_count": 14,
   "metadata": {},
   "outputs": [],
   "source": [
    "messages = [\n",
    "    SystemMessage(system_prompt),\n",
    "    HumanMessage(\"How to bake a chocolate cake? Search the internet for me.\"),\n",
    "]"
   ]
  },
  {
   "cell_type": "code",
   "execution_count": 15,
   "metadata": {},
   "outputs": [
    {
     "data": {
      "text/plain": [
       "AIMessage(content='', additional_kwargs={'tool_calls': [{'id': 'call_Se72yelfd4yvKBepZ2Tvfrwq', 'function': {'arguments': '{\"query\":\"how to bake a chocolate cake recipe\"}', 'name': 'advanced_search_tool'}, 'type': 'function'}], 'refusal': None}, response_metadata={'token_usage': {'completion_tokens': 23, 'prompt_tokens': 102, 'total_tokens': 125, 'completion_tokens_details': {'accepted_prediction_tokens': 0, 'audio_tokens': 0, 'reasoning_tokens': 0, 'rejected_prediction_tokens': 0}, 'prompt_tokens_details': {'audio_tokens': 0, 'cached_tokens': 0}}, 'model_name': 'gpt-4o-mini-2024-07-18', 'system_fingerprint': 'fp_0aa8d3e20b', 'finish_reason': 'tool_calls', 'logprobs': None}, id='run-356fb11e-540b-4b01-93e7-b6a4135b647f-0', tool_calls=[{'name': 'advanced_search_tool', 'args': {'query': 'how to bake a chocolate cake recipe'}, 'id': 'call_Se72yelfd4yvKBepZ2Tvfrwq', 'type': 'tool_call'}], usage_metadata={'input_tokens': 102, 'output_tokens': 23, 'total_tokens': 125, 'input_token_details': {'audio': 0, 'cache_read': 0}, 'output_token_details': {'audio': 0, 'reasoning': 0}})"
      ]
     },
     "execution_count": 15,
     "metadata": {},
     "output_type": "execute_result"
    }
   ],
   "source": [
    "response = llm_with_advanced_search.invoke(messages)\n",
    "response"
   ]
  },
  {
   "cell_type": "markdown",
   "metadata": {},
   "source": [
    "### Manually Running Tool Calls"
   ]
  },
  {
   "cell_type": "code",
   "execution_count": 22,
   "metadata": {},
   "outputs": [
    {
     "data": {
      "text/plain": [
       "{'id': 'call_NS7IZS2KJcbVaUged4O0FiHF',\n",
       " 'function': {'arguments': '{\"query\":\"how to bake a cake\"}',\n",
       "  'name': 'advanced_search_tool'},\n",
       " 'type': 'function'}"
      ]
     },
     "execution_count": 22,
     "metadata": {},
     "output_type": "execute_result"
    }
   ],
   "source": [
    "tool_call = response.additional_kwargs['tool_calls'][0]\n",
    "tool_call"
   ]
  },
  {
   "cell_type": "code",
   "execution_count": 23,
   "metadata": {},
   "outputs": [
    {
     "name": "stdout",
     "output_type": "stream",
     "text": [
      "Function name: advanced_search_tool\n",
      "Function arguments: {\"query\":\"how to bake a cake\"}\n"
     ]
    }
   ],
   "source": [
    "func_name = tool_call['function']['name']\n",
    "func_args = tool_call['function']['arguments']\n",
    "\n",
    "print(\"Function name:\", func_name)\n",
    "print(\"Function arguments:\", func_args)"
   ]
  },
  {
   "cell_type": "code",
   "execution_count": 24,
   "metadata": {},
   "outputs": [
    {
     "name": "stdout",
     "output_type": "stream",
     "text": [
      "---Node Query Rewrite---\n",
      "Rewritten query: \"how to bake a cake step by step\"\n",
      "---Node Search Internet---\n",
      "Search results:\n",
      "[{'url': 'https://testfoodkitchen.com/how-to-bake-a-simple-cake-step-by-step/', 'content': 'How to Bake a Cake Step by Step: 1) Preheat oven to 350 degrees Fahrenheit. Grease and flour a 9 by 13 inch baking pan. 2) In a large bowl, mix together eggs, sugar, vanilla extract, and salt. Add the dry ingredients and mix until everything is well combined.'}, {'url': 'https://testfoodkitchen.com/how-to-bake-a-cake-step-by-step/', 'content': 'How to Bake a Cake Step by Step: A Recipe for Success. Every baker has their own tricks and techniques they use to make the perfect cake. Here are a few tips to help you get started: Preheat your oven before beginning the baking process. This will help ensure that your cake cooks evenly and creates an even outcome.'}, {'url': 'https://bakingjoys.com/how-to-bake-a-cake-step-by-step/', 'content': \"Step 2: How to bake a cake step by step and Preparing Your Workspace . Before diving into the baking process, setting up your workspace is essential. This ensures a smooth, enjoyable experience and helps you avoid unnecessary interruptions. A well-prepared kitchen also reduces stress and minimizes mistakes. Here's how to do it step by step: 1.\"}]\n",
      "---Node Generate Answer---\n",
      "Final answer: To bake a cake, follow these step-by-step instructions:\n",
      "\n",
      "1. **Preheat the Oven**: Start by preheating your oven to 350 degrees Fahrenheit (175 degrees Celsius).\n",
      "\n",
      "2. **Prepare the Baking Pan**: Grease and flour a 9 x 13 inch baking pan to prevent the cake from sticking.\n",
      "\n",
      "3. **Gather Ingredients**: In a large bowl, mix together the following:\n",
      "   - Eggs\n",
      "   - Sugar\n",
      "   - Vanilla extract\n",
      "   - Salt\n",
      "\n",
      "4. **Mix Dry Ingredients**: In a separate bowl, combine your dry ingredients, which typically include flour, baking powder, and any other dry flavorings you wish to add.\n",
      "\n",
      "5. **Combine Mixtures**: Gradually add the dry ingredients to the wet mixture, mixing until everything is well combined and smooth.\n",
      "\n",
      "6. **Pour and Bake**: Pour the batter into the prepared baking pan and smooth the top. Place it in the preheated oven and bake for about 30-35 minutes, or until a toothpick inserted into the center comes out clean.\n",
      "\n",
      "7. **Cool**: Once baked, remove the cake from the oven and let it cool in the pan for a few minutes before transferring it to a wire rack to cool completely.\n",
      "\n",
      "8. **Frost and Serve**: After the cake has cooled, you can frost it with your favorite icing or serve it plain.\n",
      "\n",
      "For more detailed instructions and tips, you can check out the full guides at [Test Food Kitchen](https://testfoodkitchen.com/how-to-bake-a-simple-cake-step-by-step/) and [Baking Joys](https://bakingjoys.com/how-to-bake-a-cake-step-by-step/). Happy baking!\n",
      "To bake a cake, follow these step-by-step instructions:\n",
      "\n",
      "1. **Preheat the Oven**: Start by preheating your oven to 350 degrees Fahrenheit (175 degrees Celsius).\n",
      "\n",
      "2. **Prepare the Baking Pan**: Grease and flour a 9 x 13 inch baking pan to prevent the cake from sticking.\n",
      "\n",
      "3. **Gather Ingredients**: In a large bowl, mix together the following:\n",
      "   - Eggs\n",
      "   - Sugar\n",
      "   - Vanilla extract\n",
      "   - Salt\n",
      "\n",
      "4. **Mix Dry Ingredients**: In a separate bowl, combine your dry ingredients, which typically include flour, baking powder, and any other dry flavorings you wish to add.\n",
      "\n",
      "5. **Combine Mixtures**: Gradually add the dry ingredients to the wet mixture, mixing until everything is well combined and smooth.\n",
      "\n",
      "6. **Pour and Bake**: Pour the batter into the prepared baking pan and smooth the top. Place it in the preheated oven and bake for about 30-35 minutes, or until a toothpick inserted into the center comes out clean.\n",
      "\n",
      "7. **Cool**: Once baked, remove the cake from the oven and let it cool in the pan for a few minutes before transferring it to a wire rack to cool completely.\n",
      "\n",
      "8. **Frost and Serve**: After the cake has cooled, you can frost it with your favorite icing or serve it plain.\n",
      "\n",
      "For more detailed instructions and tips, you can check out the full guides at [Test Food Kitchen](https://testfoodkitchen.com/how-to-bake-a-simple-cake-step-by-step/) and [Baking Joys](https://bakingjoys.com/how-to-bake-a-cake-step-by-step/). Happy baking!\n"
     ]
    }
   ],
   "source": [
    "functions_dict = {\n",
    "    \"advanced_search_tool\": advanced_search_tool,\n",
    "}\n",
    "print(functions_dict[func_name](*{func_args}))"
   ]
  }
 ],
 "metadata": {
  "kernelspec": {
   "display_name": ".venv",
   "language": "python",
   "name": "python3"
  },
  "language_info": {
   "codemirror_mode": {
    "name": "ipython",
    "version": 3
   },
   "file_extension": ".py",
   "mimetype": "text/x-python",
   "name": "python",
   "nbconvert_exporter": "python",
   "pygments_lexer": "ipython3",
   "version": "3.11.9"
  }
 },
 "nbformat": 4,
 "nbformat_minor": 2
}
