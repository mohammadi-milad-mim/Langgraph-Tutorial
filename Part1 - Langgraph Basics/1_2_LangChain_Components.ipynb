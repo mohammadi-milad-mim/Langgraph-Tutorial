{
 "cells": [
  {
   "cell_type": "markdown",
   "metadata": {},
   "source": [
    "## LangChain (LangGraph) Modules and Components"
   ]
  },
  {
   "cell_type": "markdown",
   "metadata": {},
   "source": [
    "### Set API Keys as enviroment variable"
   ]
  },
  {
   "cell_type": "code",
   "execution_count": 11,
   "metadata": {},
   "outputs": [],
   "source": [
    "import os, getpass\n",
    "\n",
    "def _set_env(var: str):\n",
    "    if not os.environ.get(var):\n",
    "        os.environ[var] = getpass.getpass(f\"{var}: \")"
   ]
  },
  {
   "cell_type": "code",
   "execution_count": 3,
   "metadata": {},
   "outputs": [],
   "source": [
    "_set_env(\"AVALAI_API_KEY\")"
   ]
  },
  {
   "cell_type": "code",
   "execution_count": 2,
   "metadata": {},
   "outputs": [],
   "source": [
    "_set_env(\"GOOGLE_API_KEY\")"
   ]
  },
  {
   "cell_type": "markdown",
   "metadata": {},
   "source": [
    "### Chat Models"
   ]
  },
  {
   "cell_type": "code",
   "execution_count": 5,
   "metadata": {},
   "outputs": [],
   "source": [
    "import os\n",
    "from langchain_openai import ChatOpenAI\n",
    "\n",
    "AVALAI_BASE_URL = \"https://api.avalai.ir/v1\"\n",
    "GPT_MODEL_NAME = \"gpt-4o-mini\"\n",
    "\n",
    "gpt4o_chat = ChatOpenAI(model=GPT_MODEL_NAME,\n",
    "                        base_url=AVALAI_BASE_URL,\n",
    "                        api_key=os.environ[\"AVALAI_API_KEY\"])\n",
    "\n",
    "TOGETHER_AI_BASE_URL = \"https://api.together.xyz/v1\"\n",
    "llama3_3_chat = ChatOpenAI(\n",
    "    model=\"meta-llama/Llama-3.3-70B-Instruct-Turbo\",\n",
    "    base_url=TOGETHER_AI_BASE_URL,\n",
    "    api_key=os.environ[\"TOGETHERAI_API_KEY\"]\n",
    ")"
   ]
  },
  {
   "cell_type": "code",
   "execution_count": 1,
   "metadata": {},
   "outputs": [
    {
     "name": "stderr",
     "output_type": "stream",
     "text": [
      "/Users/miladmohammadi/Documents/NLP 6/NLP_CA6_Solutions/.venv/lib/python3.11/site-packages/tqdm/auto.py:21: TqdmWarning: IProgress not found. Please update jupyter and ipywidgets. See https://ipywidgets.readthedocs.io/en/stable/user_install.html\n",
      "  from .autonotebook import tqdm as notebook_tqdm\n"
     ]
    }
   ],
   "source": [
    "from langchain_google_genai import ChatGoogleGenerativeAI\n",
    "GEMINI_MODEL_NAME = \"gemini-1.5-flash\"\n",
    "gemini_chat = ChatGoogleGenerativeAI(model=GEMINI_MODEL_NAME)"
   ]
  },
  {
   "cell_type": "markdown",
   "metadata": {},
   "source": [
    "### Messages"
   ]
  },
  {
   "cell_type": "code",
   "execution_count": 31,
   "metadata": {},
   "outputs": [],
   "source": [
    "from langchain_core.messages import HumanMessage, SystemMessage\n",
    "\n",
    "messages = [\n",
    "    SystemMessage(\"You are a helpful assistant AI assistant.\"),\n",
    "    HumanMessage(\"Hello, I am Milad. Who are you?\"),\n",
    "]"
   ]
  },
  {
   "cell_type": "markdown",
   "metadata": {},
   "source": [
    "### Model Invoke"
   ]
  },
  {
   "cell_type": "code",
   "execution_count": 32,
   "metadata": {},
   "outputs": [
    {
     "data": {
      "text/plain": [
       "AIMessage(content='Hello, Milad! I’m an AI assistant here to help you with any questions or information you need. How can I assist you today?', additional_kwargs={'refusal': None}, response_metadata={'token_usage': {'completion_tokens': 30, 'prompt_tokens': 30, 'total_tokens': 60, 'completion_tokens_details': {'accepted_prediction_tokens': 0, 'audio_tokens': 0, 'reasoning_tokens': 0, 'rejected_prediction_tokens': 0}, 'prompt_tokens_details': {'audio_tokens': 0, 'cached_tokens': 0}}, 'model_name': 'gpt-4o-mini-2024-07-18', 'system_fingerprint': 'fp_d02d531b47', 'finish_reason': 'stop', 'logprobs': None}, id='run-91758f76-82c2-4f1d-9005-9029e7308590-0', usage_metadata={'input_tokens': 30, 'output_tokens': 30, 'total_tokens': 60, 'input_token_details': {'audio': 0, 'cache_read': 0}, 'output_token_details': {'audio': 0, 'reasoning': 0}})"
      ]
     },
     "execution_count": 32,
     "metadata": {},
     "output_type": "execute_result"
    }
   ],
   "source": [
    "response = gpt4o_chat.invoke(messages)\n",
    "response"
   ]
  },
  {
   "cell_type": "code",
   "execution_count": 33,
   "metadata": {},
   "outputs": [
    {
     "name": "stdout",
     "output_type": "stream",
     "text": [
      "==================================\u001b[1m Ai Message \u001b[0m==================================\n",
      "\n",
      "Hello, Milad! I’m an AI assistant here to help you with any questions or information you need. How can I assist you today?\n"
     ]
    }
   ],
   "source": [
    "response.pretty_print()"
   ]
  },
  {
   "cell_type": "code",
   "execution_count": 34,
   "metadata": {},
   "outputs": [],
   "source": [
    "messages = [\n",
    "    {\n",
    "        \"role\": \"system\",\n",
    "        \"content\": \"You are a helpful assistant AI assistant.\"  \n",
    "    },\n",
    "    {\n",
    "        \"role\": \"user\",\n",
    "        \"content\": \"Hello, My name is Milad. How are you?\",\n",
    "    },\n",
    "    {\n",
    "        \"role\": \"assistant\",\n",
    "        \"content\": \"Hello Milad, I'm doing well, thank you for asking.\",\n",
    "    },\n",
    "    {\n",
    "        \"role\": \"user\",\n",
    "        \"content\": \"Can you tell me a joke?\",\n",
    "    }\n",
    "]"
   ]
  },
  {
   "cell_type": "code",
   "execution_count": 35,
   "metadata": {},
   "outputs": [
    {
     "data": {
      "text/plain": [
       "AIMessage(content='Sure! Here’s one for you:\\n\\nWhy don’t skeletons fight each other?\\n\\nBecause they don’t have the guts!', additional_kwargs={'refusal': None}, response_metadata={'token_usage': {'completion_tokens': 26, 'prompt_tokens': 59, 'total_tokens': 85, 'completion_tokens_details': {'accepted_prediction_tokens': 0, 'audio_tokens': 0, 'reasoning_tokens': 0, 'rejected_prediction_tokens': 0}, 'prompt_tokens_details': {'audio_tokens': 0, 'cached_tokens': 0}}, 'model_name': 'gpt-4o-mini-2024-07-18', 'system_fingerprint': 'fp_d02d531b47', 'finish_reason': 'stop', 'logprobs': None}, id='run-249a99b3-0261-4a03-b078-73c7bd5504bd-0', usage_metadata={'input_tokens': 59, 'output_tokens': 26, 'total_tokens': 85, 'input_token_details': {'audio': 0, 'cache_read': 0}, 'output_token_details': {'audio': 0, 'reasoning': 0}})"
      ]
     },
     "execution_count": 35,
     "metadata": {},
     "output_type": "execute_result"
    }
   ],
   "source": [
    "response = gpt4o_chat.invoke(messages)\n",
    "response"
   ]
  },
  {
   "cell_type": "code",
   "execution_count": 36,
   "metadata": {},
   "outputs": [
    {
     "name": "stdout",
     "output_type": "stream",
     "text": [
      "==================================\u001b[1m Ai Message \u001b[0m==================================\n",
      "\n",
      "Sure! Here’s one for you:\n",
      "\n",
      "Why don’t skeletons fight each other?\n",
      "\n",
      "Because they don’t have the guts!\n"
     ]
    }
   ],
   "source": [
    "response.pretty_print()"
   ]
  },
  {
   "cell_type": "code",
   "execution_count": 6,
   "metadata": {},
   "outputs": [
    {
     "data": {
      "text/plain": [
       "AIMessage(content=\"I am a large language model, trained by Google.  I'm a computer program designed to process information and respond to a wide range of prompts and questions in a human-like way.  Think of me as a sophisticated text-based AI assistant.  I don't have a name, feelings, or personal experiences like a human being.  I exist solely as a computer program.\\n\", additional_kwargs={}, response_metadata={'prompt_feedback': {'block_reason': 0, 'safety_ratings': []}, 'finish_reason': 'STOP', 'safety_ratings': []}, id='run-2d267e2a-7948-4021-beab-db87b676867c-0', usage_metadata={'input_tokens': 13, 'output_tokens': 81, 'total_tokens': 94, 'input_token_details': {'cache_read': 0}})"
      ]
     },
     "execution_count": 6,
     "metadata": {},
     "output_type": "execute_result"
    }
   ],
   "source": [
    "response = gemini_chat.invoke(\"Hello, I am a CS student. Who are you?\")\n",
    "response"
   ]
  },
  {
   "cell_type": "code",
   "execution_count": 7,
   "metadata": {},
   "outputs": [
    {
     "name": "stdout",
     "output_type": "stream",
     "text": [
      "==================================\u001b[1m Ai Message \u001b[0m==================================\n",
      "\n",
      "I am a large language model, trained by Google.  I'm a computer program designed to process information and respond to a wide range of prompts and questions in a human-like way.  Think of me as a sophisticated text-based AI assistant.  I don't have a name, feelings, or personal experiences like a human being.  I exist solely as a computer program.\n"
     ]
    }
   ],
   "source": [
    "response.pretty_print()"
   ]
  },
  {
   "cell_type": "code",
   "execution_count": 8,
   "metadata": {},
   "outputs": [
    {
     "name": "stdout",
     "output_type": "stream",
     "text": [
      "==================================\u001b[1m Ai Message \u001b[0m==================================\n",
      "\n",
      "Hello Milad, I'm an artificial intelligence model known as Llama. Llama stands for \"Large Language Model Meta AI.\"\n"
     ]
    }
   ],
   "source": [
    "response = llama3_3_chat.invoke(\"Hello, I am Milad. Who are you?\")\n",
    "response.pretty_print()"
   ]
  },
  {
   "cell_type": "markdown",
   "metadata": {},
   "source": [
    "### Structured Output"
   ]
  },
  {
   "cell_type": "code",
   "execution_count": 11,
   "metadata": {},
   "outputs": [],
   "source": [
    "from typing import Optional\n",
    "from pydantic import BaseModel, Field\n",
    "\n",
    "class Joke(BaseModel):\n",
    "    setup: str = Field(description=\"The setup of the joke\")\n",
    "    punchline: str = Field(description=\"The punchline to the joke\")\n",
    "    rating: Optional[int] = Field(description=\"How funny the joke is, from 1 to 10\")"
   ]
  },
  {
   "cell_type": "code",
   "execution_count": 15,
   "metadata": {},
   "outputs": [],
   "source": [
    "structured_llm = llama3_3_chat.with_structured_output(Joke)"
   ]
  },
  {
   "cell_type": "code",
   "execution_count": 16,
   "metadata": {},
   "outputs": [
    {
     "data": {
      "text/plain": [
       "Joke(setup='Why did the cat join a band?', punchline='Because it wanted to be the purr-cussionist!', rating=8)"
      ]
     },
     "execution_count": 16,
     "metadata": {},
     "output_type": "execute_result"
    }
   ],
   "source": [
    "response = structured_llm.invoke(\"Tell me a joke about cats\")\n",
    "response"
   ]
  },
  {
   "cell_type": "code",
   "execution_count": 17,
   "metadata": {},
   "outputs": [
    {
     "data": {
      "text/plain": [
       "8"
      ]
     },
     "execution_count": 17,
     "metadata": {},
     "output_type": "execute_result"
    }
   ],
   "source": [
    "response.rating"
   ]
  },
  {
   "cell_type": "markdown",
   "metadata": {},
   "source": [
    "### Tavily (Search) API"
   ]
  },
  {
   "cell_type": "code",
   "execution_count": 18,
   "metadata": {},
   "outputs": [
    {
     "data": {
      "text/plain": [
       "[{'url': 'https://www.wikihow.com/Make-a-Plain-Cake',\n",
       "  'content': \"Reader Success Stories\\nFavour Michael\\nAug 10, 2021\\nDid this article help you?\\nFavour Michael\\nAug 10, 2021\\nSamantha Nguyen\\nJun 6, 2021\\nRukayyat Ilori\\nJul 20, 2018\\nMinnie\\nOct 10, 2021\\nNaomi Mechumo\\nDec 8, 2022\\nQuizzes\\nYou Might Also Like\\nFeatured Articles\\nTrending Articles\\nFeatured Articles\\n Tips\\nThings You'll Need\\nYou Might Also Like\\nReferences\\nAbout This Article\\nTo make a plain and simple cake, start by whisking flour, baking powder, and salt in a large bowl. Log in\\nHow to Bake a Simple, Plain Cake from Scratch\\nLast Updated: December 31, 2023\\nFact Checked\\nThis article was co-authored by Quynh La and by wikiHow staff writer, Janice Tieperman. Ingredients\\nMakes one 9\\xa0in (23\\xa0cm) square cake\\nSteps\\nPreheat the oven to 350 °F and grease the pan.\\n Featured Articles\\nWatch Articles\\nTrending Articles\\nFollow Us\\nDon’t miss out!\"},\n",
       " {'url': 'https://www.foodnetwork.com/how-to/articles/how-to-bake-a-cake-a-step-by-step-guide',\n",
       "  'content': \"How to Bake a Cake: A Step-by-Step Guide : Recipes and Cooking : Food Network | Food Network Follow this easy guide for mixing, prepping and baking a cake, then watch our how-to video. Line the pan with parchment paper — this will help your cake release perfectly — and butter the parchment. The butter and flour combination will help the cake come out of the pan easily once baked. How to Bake a Cake How To Be the Best Holiday Party Guest and Host Ever, According to Etiquette Experts Nov 15, 2024 I’m Just a Girl in a Room With 180 Cakes Nov 13, 2024 Amazon's Holiday Deals Are Here and These Are the Best Finds Nov 12, 2024\"},\n",
       " {'url': 'https://www.bhg.com/recipes/how-to/bake/how-to-make-a-cake/',\n",
       "  'content': 'How to Make a Cake from Scratch That Looks Like It’s From a Bakery\\nWhether you need a birthday cake or an over-the-top holiday cake, follow these Test Kitchen tips for a cake that’s scrumptious (and picture-perfect) every time.\\n Step 7: Alternate Adding Dry and Wet Ingredients\\nAlternate between adding some of the dry mixture and some of the milk (or whatever liquid is specified in your recipe) to the butter-egg-sugar mixture, beating on low speed after each addition until everything is combined. To remove the cakes from the pans, run a knife around the edges, which will loosen them from the sides of the pans. BHG/Abbey Littlejohn\\nStep 15: Frost and Decorate\\nUsing an offset spatula or table knife, generously spread the remaining frosting over the top and sides of the cake, swirling as you go. Pans with a dark or dull finish absorb more heat and may burn your crust, so if you’re using one of these, reduce your oven temperature by 25°F and check on the cake 3-5 minutes earlier than the recipe suggests.\\n'}]"
      ]
     },
     "execution_count": 18,
     "metadata": {},
     "output_type": "execute_result"
    }
   ],
   "source": [
    "from langchain_community.tools.tavily_search import TavilySearchResults\n",
    "\n",
    "query = \"How to make a cake\"\n",
    "searcher = TavilySearchResults(max_results=3).invoke(query)\n",
    "searcher"
   ]
  },
  {
   "cell_type": "markdown",
   "metadata": {},
   "source": [
    "## Simple Chain/Router"
   ]
  },
  {
   "cell_type": "code",
   "execution_count": 19,
   "metadata": {},
   "outputs": [],
   "source": [
    "from typing import TypedDict, Optional\n",
    "\n",
    "class MyState(TypedDict):\n",
    "    user_query: str\n",
    "    rewritten_query: Optional[str]\n",
    "    search_results: Optional[str]\n",
    "    final_answer: Optional[str]"
   ]
  },
  {
   "cell_type": "code",
   "execution_count": 20,
   "metadata": {},
   "outputs": [],
   "source": [
    "def node_query_rewrite(state: MyState) -> MyState:\n",
    "    \"\"\"\n",
    "    Rewrites the user's query using an LLM for clarity or correctness.\n",
    "    \"\"\"\n",
    "    print(\"---Node Query Rewrite---\")\n",
    "    user_query = state[\"user_query\"]\n",
    "    \n",
    "    rewrite_prompt = f\"Please rewrite this query suitable for search engines:\\n\\n{user_query}\"\n",
    "    # Invoke the LLM to rewrite the query\n",
    "    rewritten = gpt4o_chat.invoke(rewrite_prompt).content\n",
    "    print(\"Rewritten query:\", rewritten)\n",
    "    state[\"rewritten_query\"] = rewritten\n",
    "    return state\n",
    "\n",
    "def node_search_internet(state: MyState) -> MyState:\n",
    "    \"\"\"\n",
    "    Searches the internet for the rewritten query using a search tool.\n",
    "    \"\"\"\n",
    "    print(\"---Node Search Internet---\")\n",
    "    rewritten_query = state[\"rewritten_query\"]\n",
    "    \n",
    "    # Use your search tool function\n",
    "    results = TavilySearchResults(max_results=3).invoke(rewritten_query)\n",
    "    print(\"Search results:\")\n",
    "    print(results)\n",
    "    # Save the search results in state\n",
    "    state[\"search_results\"] = str(results)\n",
    "    return state\n",
    "\n",
    "def node_generate_answer(state: MyState) -> MyState:\n",
    "    \"\"\"\n",
    "    Generates a final answer based on the original user query and the search results.\n",
    "    \"\"\"\n",
    "    print(\"---Node Generate Answer---\")\n",
    "    user_query = state[\"user_query\"]\n",
    "    search_info = state[\"search_results\"] or \"No search results found.\"\n",
    "    \n",
    "    # Combine user query with search results to generate answer\n",
    "    final_answer = gpt4o_chat.invoke(\n",
    "        f\"User's query: {user_query}\\n\\nSearch results:\\n{search_info}\\n\\n\"\n",
    "        \"Please provide a helpful answer.\"\n",
    "    )\n",
    "    print(\"Final answer:\", final_answer.content)\n",
    "    state[\"final_answer\"] = final_answer.content\n",
    "    return state"
   ]
  },
  {
   "cell_type": "code",
   "execution_count": 24,
   "metadata": {},
   "outputs": [],
   "source": [
    "from pydantic import BaseModel, Field\n",
    "\n",
    "class IsRelated(BaseModel):\n",
    "    reasoning : str = Field(description=\"The reasoning behind the decision, wheather it is the query is related to baking and cooking or not.\")\n",
    "    is_related_flag: bool = Field(description=\"The decision whether the query is related to baking and cooking or not.\")\n",
    "\n",
    "\n",
    "from typing import Literal\n",
    "\n",
    "def is_related(MyState) -> Literal[\"node_query_rewrite\", \"node_generate_answer\"]:\n",
    "    query = MyState[\"user_query\"]\n",
    "    llm_with_structured_output = gpt4o_chat.with_structured_output(IsRelated)\n",
    "    response = llm_with_structured_output.invoke(query)\n",
    "    print(\"-----Is Related-----\")\n",
    "    print(response)\n",
    "    if response.is_related_flag == True:\n",
    "        return \"node_query_rewrite\"\n",
    "    else:\n",
    "        return \"node_generate_answer\""
   ]
  },
  {
   "cell_type": "code",
   "execution_count": 25,
   "metadata": {},
   "outputs": [],
   "source": [
    "from langgraph.graph import StateGraph, START, END\n",
    "\n",
    "# Build the graph\n",
    "builder = StateGraph(MyState)\n",
    "\n",
    "# Add nodes\n",
    "builder.add_node(\"node_query_rewrite\", node_query_rewrite)\n",
    "builder.add_node(\"node_search_internet\", node_search_internet)\n",
    "builder.add_node(\"node_generate_answer\", node_generate_answer)\n",
    "\n",
    "# Add edges (linear flow)\n",
    "builder.add_conditional_edges(START, is_related)\n",
    "\n",
    "builder.add_edge(\"node_query_rewrite\", \"node_search_internet\")\n",
    "builder.add_edge(\"node_search_internet\", \"node_generate_answer\")\n",
    "builder.add_edge(\"node_generate_answer\", END)\n",
    "\n",
    "# Compile the graph\n",
    "advanced_search_graph = builder.compile()\n"
   ]
  },
  {
   "cell_type": "code",
   "execution_count": 26,
   "metadata": {},
   "outputs": [
    {
     "data": {
      "image/png": "[encoded data removed]",
      "text/plain": [
       "<IPython.core.display.Image object>"
      ]
     },
     "metadata": {},
     "output_type": "display_data"
    }
   ],
   "source": [
    "from IPython.display import Image, display\n",
    "display(Image(advanced_search_graph.get_graph().draw_mermaid_png()))\n"
   ]
  },
  {
   "cell_type": "code",
   "execution_count": 27,
   "metadata": {},
   "outputs": [
    {
     "name": "stdout",
     "output_type": "stream",
     "text": [
      "-----Is Related-----\n",
      "reasoning='The query is about baking a chocolate cake, which directly relates to baking and cooking.' is_related_flag=True\n",
      "---Node Query Rewrite---\n",
      "Rewritten query: \"Beginner's guide to baking a chocolate cake: step-by-step instructions\"\n",
      "---Node Search Internet---\n",
      "Search results:\n",
      "[{'url': 'https://www.bhg.com/recipes/how-to/bake/how-to-make-chocolate-cake/', 'content': \"More Great Chocolate Cake Ideas\\nMore Craveable Chocolate Cake Recipes\\nBy clicking “Accept All Cookies”, you agree to the storing of cookies on your device to enhance site navigation, analyze site usage, and assist in our marketing efforts. Here's Our Step-By-Step Guide\\nHomemade chocolate cake is a piece of—well, you know—with the help of one of our best chocolate cake recipes.\\n Learn how to make a cake from scratch in a matter of minutes with our easy chocolate cake recipes that'll get raves from your guests.\\n Bake in preheated oven for 30 to 35 minutes for 9-inch pans, 35 to 40 minutes for 13-inch pans, or until a wooden toothpick inserted comes out clean. Ingredients for Chocolate Cake\\nStep 1: Prep\\nLet butter and eggs stand at room temperature for 30 minutes.\"}, {'url': 'https://startcooking.com/chocolate-cake-for-beginners', 'content': 'Finally I have discovered the perfect chocolate cake recipe for beginner cooks. (Don’t make the frosting until the cake is baked, and stone cold.) Measure all the cake ingredients and set them aside: whenever i bake a cake there’s something wrong with it – sometimes too moist, extra egg,too much of baking soda, sometimes needs more cooking but if i bake it again it looks like all the butter is coming out of the cake,etc etc………but then the main problem with my cakes is that they are alwayz fail i.e.,they never rise up……………….do help!!!!!!!! This recipe will only work if you bake the cake in a regular oven. My recipe for chocolate cake ONLY uses baking soda.'}, {'url': 'https://www.helpmebake.com/threads/how-to-make-a-chocolate-cake-tutorial.482/', 'content': 'How to Make a Chocolate Cake Tutorial | Help Me Bake How to Make a Chocolate Cake Tutorial (1 Viewer) If you use a wider and thinner tin reduce the baking time by around 15 minutes, as thinner cakes take less time to bake. Now taste test the mixture by scooping a little out with a spoon, if the mixture tastes floury or bitty then whisk a little longer until all the ingredients have combined, if you recheck the mix again then ensure to use a new clean spoon, if it tastes smooth it can now be transferred to the tin. Now slowly pour your chocolate cake mixture into the tin. Make it, bake it, cake it!'}]\n",
      "---Node Generate Answer---\n",
      "Final answer: Welcome to the world of baking! Here's a simple step-by-step guide to help you bake a delicious chocolate cake:\n",
      "\n",
      "### Ingredients:\n",
      "- **1 and 3/4 cups** all-purpose flour\n",
      "- **3/4 cup** unsweetened cocoa powder\n",
      "- **2 cups** granulated sugar\n",
      "- **1 and 1/2 teaspoons** baking powder\n",
      "- **1 and 1/2 teaspoons** baking soda\n",
      "- **1 teaspoon** salt\n",
      "- **2 large** eggs\n",
      "- **1 cup** whole milk\n",
      "- **1/2 cup** vegetable oil\n",
      "- **2 teaspoons** vanilla extract\n",
      "- **1 cup** boiling water\n",
      "\n",
      "### Instructions:\n",
      "\n",
      "1. **Preheat Your Oven:**\n",
      "   Preheat your oven to 350°F (175°C). Grease and flour two 9-inch round cake pans.\n",
      "\n",
      "2. **Prepare Your Ingredients:**\n",
      "   Allow your eggs and milk to come to room temperature for about 30 minutes. This helps them mix better into the batter.\n",
      "\n",
      "3. **Mix Dry Ingredients:**\n",
      "   In a large mixing bowl, combine the flour, cocoa powder, sugar, baking powder, baking soda, and salt. Mix these dry ingredients together until well combined.\n",
      "\n",
      "4. **Add Wet Ingredients:**\n",
      "   Add the eggs, milk, oil, and vanilla extract to the dry ingredients. Mix on medium speed for about 2 minutes. The batter will be thick.\n",
      "\n",
      "5. **Incorporate Boiling Water:**\n",
      "   Stir in the boiling water (the batter will be thin, which is normal). This step helps to create a moist cake.\n",
      "\n",
      "6. **Pour into Pans:**\n",
      "   Divide the batter evenly between the prepared cake pans.\n",
      "\n",
      "7. **Bake:**\n",
      "   Bake in the preheated oven for 30 to 35 minutes, or until a toothpick inserted into the center comes out clean.\n",
      "\n",
      "8. **Cool:**\n",
      "   Once baked, allow the cakes to cool in the pans for about 10 minutes. Then, remove them from the pans and place them on a wire rack to cool completely.\n",
      "\n",
      "9. **Frost (Optional):**\n",
      "   Once the cakes are completely cool, you can frost them with your favorite chocolate frosting.\n",
      "\n",
      "### Tips:\n",
      "- Make sure to measure ingredients accurately for the best results.\n",
      "- If you’re new to baking, it’s a good idea to read through the entire recipe before starting.\n",
      "- Don’t open the oven door too early while baking, as this can cause the cake to sink.\n",
      "\n",
      "For more detailed guidance, you can check out these resources:\n",
      "- [Better Homes & Gardens Chocolate Cake Recipe](https://www.bhg.com/recipes/how-to/bake/how-to-make-chocolate-cake/)\n",
      "- [Start Cooking: Chocolate Cake for Beginners](https://startcooking.com/chocolate-cake-for-beginners)\n",
      "\n",
      "Happy baking, and enjoy your chocolate cake!\n"
     ]
    }
   ],
   "source": [
    "# Provide the user’s query to the graph\n",
    "user_input = {\"user_query\": \"I'am new to baking, How to bake a chocolate cake?\"}\n",
    "\n",
    "final_state = advanced_search_graph.invoke(user_input)"
   ]
  },
  {
   "cell_type": "code",
   "execution_count": 28,
   "metadata": {},
   "outputs": [
    {
     "data": {
      "text/plain": [
       "{'user_query': \"I'am new to baking, How to bake a chocolate cake?\",\n",
       " 'rewritten_query': '\"Beginner\\'s guide to baking a chocolate cake: step-by-step instructions\"',\n",
       " 'search_results': '[{\\'url\\': \\'https://www.bhg.com/recipes/how-to/bake/how-to-make-chocolate-cake/\\', \\'content\\': \"More Great Chocolate Cake Ideas\\\\nMore Craveable Chocolate Cake Recipes\\\\nBy clicking “Accept All Cookies”, you agree to the storing of cookies on your device to enhance site navigation, analyze site usage, and assist in our marketing efforts. Here\\'s Our Step-By-Step Guide\\\\nHomemade chocolate cake is a piece of—well, you know—with the help of one of our best chocolate cake recipes.\\\\n Learn how to make a cake from scratch in a matter of minutes with our easy chocolate cake recipes that\\'ll get raves from your guests.\\\\n Bake in preheated oven for 30 to 35 minutes for 9-inch pans, 35 to 40 minutes for 13-inch pans, or until a wooden toothpick inserted comes out clean. Ingredients for Chocolate Cake\\\\nStep 1: Prep\\\\nLet butter and eggs stand at room temperature for 30 minutes.\"}, {\\'url\\': \\'https://startcooking.com/chocolate-cake-for-beginners\\', \\'content\\': \\'Finally I have discovered the perfect chocolate cake recipe for beginner cooks. (Don’t make the frosting until the cake is baked, and stone cold.) Measure all the cake ingredients and set them aside: whenever i bake a cake there’s something wrong with it – sometimes too moist, extra egg,too much of baking soda, sometimes needs more cooking but if i bake it again it looks like all the butter is coming out of the cake,etc etc………but then the main problem with my cakes is that they are alwayz fail i.e.,they never rise up……………….do help!!!!!!!! This recipe will only work if you bake the cake in a regular oven. My recipe for chocolate cake ONLY uses baking soda.\\'}, {\\'url\\': \\'https://www.helpmebake.com/threads/how-to-make-a-chocolate-cake-tutorial.482/\\', \\'content\\': \\'How to Make a Chocolate Cake Tutorial | Help Me Bake How to Make a Chocolate Cake Tutorial (1 Viewer) If you use a wider and thinner tin reduce the baking time by around 15 minutes, as thinner cakes take less time to bake. Now taste test the mixture by scooping a little out with a spoon, if the mixture tastes floury or bitty then whisk a little longer until all the ingredients have combined, if you recheck the mix again then ensure to use a new clean spoon, if it tastes smooth it can now be transferred to the tin. Now slowly pour your chocolate cake mixture into the tin. Make it, bake it, cake it!\\'}]',\n",
       " 'final_answer': \"Welcome to the world of baking! Here's a simple step-by-step guide to help you bake a delicious chocolate cake:\\n\\n### Ingredients:\\n- **1 and 3/4 cups** all-purpose flour\\n- **3/4 cup** unsweetened cocoa powder\\n- **2 cups** granulated sugar\\n- **1 and 1/2 teaspoons** baking powder\\n- **1 and 1/2 teaspoons** baking soda\\n- **1 teaspoon** salt\\n- **2 large** eggs\\n- **1 cup** whole milk\\n- **1/2 cup** vegetable oil\\n- **2 teaspoons** vanilla extract\\n- **1 cup** boiling water\\n\\n### Instructions:\\n\\n1. **Preheat Your Oven:**\\n   Preheat your oven to 350°F (175°C). Grease and flour two 9-inch round cake pans.\\n\\n2. **Prepare Your Ingredients:**\\n   Allow your eggs and milk to come to room temperature for about 30 minutes. This helps them mix better into the batter.\\n\\n3. **Mix Dry Ingredients:**\\n   In a large mixing bowl, combine the flour, cocoa powder, sugar, baking powder, baking soda, and salt. Mix these dry ingredients together until well combined.\\n\\n4. **Add Wet Ingredients:**\\n   Add the eggs, milk, oil, and vanilla extract to the dry ingredients. Mix on medium speed for about 2 minutes. The batter will be thick.\\n\\n5. **Incorporate Boiling Water:**\\n   Stir in the boiling water (the batter will be thin, which is normal). This step helps to create a moist cake.\\n\\n6. **Pour into Pans:**\\n   Divide the batter evenly between the prepared cake pans.\\n\\n7. **Bake:**\\n   Bake in the preheated oven for 30 to 35 minutes, or until a toothpick inserted into the center comes out clean.\\n\\n8. **Cool:**\\n   Once baked, allow the cakes to cool in the pans for about 10 minutes. Then, remove them from the pans and place them on a wire rack to cool completely.\\n\\n9. **Frost (Optional):**\\n   Once the cakes are completely cool, you can frost them with your favorite chocolate frosting.\\n\\n### Tips:\\n- Make sure to measure ingredients accurately for the best results.\\n- If you’re new to baking, it’s a good idea to read through the entire recipe before starting.\\n- Don’t open the oven door too early while baking, as this can cause the cake to sink.\\n\\nFor more detailed guidance, you can check out these resources:\\n- [Better Homes & Gardens Chocolate Cake Recipe](https://www.bhg.com/recipes/how-to/bake/how-to-make-chocolate-cake/)\\n- [Start Cooking: Chocolate Cake for Beginners](https://startcooking.com/chocolate-cake-for-beginners)\\n\\nHappy baking, and enjoy your chocolate cake!\"}"
      ]
     },
     "execution_count": 28,
     "metadata": {},
     "output_type": "execute_result"
    }
   ],
   "source": [
    "final_state"
   ]
  },
  {
   "cell_type": "code",
   "execution_count": 29,
   "metadata": {},
   "outputs": [
    {
     "data": {
      "text/plain": [
       "\"Welcome to the world of baking! Here's a simple step-by-step guide to help you bake a delicious chocolate cake:\\n\\n### Ingredients:\\n- **1 and 3/4 cups** all-purpose flour\\n- **3/4 cup** unsweetened cocoa powder\\n- **2 cups** granulated sugar\\n- **1 and 1/2 teaspoons** baking powder\\n- **1 and 1/2 teaspoons** baking soda\\n- **1 teaspoon** salt\\n- **2 large** eggs\\n- **1 cup** whole milk\\n- **1/2 cup** vegetable oil\\n- **2 teaspoons** vanilla extract\\n- **1 cup** boiling water\\n\\n### Instructions:\\n\\n1. **Preheat Your Oven:**\\n   Preheat your oven to 350°F (175°C). Grease and flour two 9-inch round cake pans.\\n\\n2. **Prepare Your Ingredients:**\\n   Allow your eggs and milk to come to room temperature for about 30 minutes. This helps them mix better into the batter.\\n\\n3. **Mix Dry Ingredients:**\\n   In a large mixing bowl, combine the flour, cocoa powder, sugar, baking powder, baking soda, and salt. Mix these dry ingredients together until well combined.\\n\\n4. **Add Wet Ingredients:**\\n   Add the eggs, milk, oil, and vanilla extract to the dry ingredients. Mix on medium speed for about 2 minutes. The batter will be thick.\\n\\n5. **Incorporate Boiling Water:**\\n   Stir in the boiling water (the batter will be thin, which is normal). This step helps to create a moist cake.\\n\\n6. **Pour into Pans:**\\n   Divide the batter evenly between the prepared cake pans.\\n\\n7. **Bake:**\\n   Bake in the preheated oven for 30 to 35 minutes, or until a toothpick inserted into the center comes out clean.\\n\\n8. **Cool:**\\n   Once baked, allow the cakes to cool in the pans for about 10 minutes. Then, remove them from the pans and place them on a wire rack to cool completely.\\n\\n9. **Frost (Optional):**\\n   Once the cakes are completely cool, you can frost them with your favorite chocolate frosting.\\n\\n### Tips:\\n- Make sure to measure ingredients accurately for the best results.\\n- If you’re new to baking, it’s a good idea to read through the entire recipe before starting.\\n- Don’t open the oven door too early while baking, as this can cause the cake to sink.\\n\\nFor more detailed guidance, you can check out these resources:\\n- [Better Homes & Gardens Chocolate Cake Recipe](https://www.bhg.com/recipes/how-to/bake/how-to-make-chocolate-cake/)\\n- [Start Cooking: Chocolate Cake for Beginners](https://startcooking.com/chocolate-cake-for-beginners)\\n\\nHappy baking, and enjoy your chocolate cake!\""
      ]
     },
     "execution_count": 29,
     "metadata": {},
     "output_type": "execute_result"
    }
   ],
   "source": [
    "final_state['final_answer']"
   ]
  }
 ],
 "metadata": {
  "kernelspec": {
   "display_name": ".venv",
   "language": "python",
   "name": "python3"
  },
  "language_info": {
   "codemirror_mode": {
    "name": "ipython",
    "version": 3
   },
   "file_extension": ".py",
   "mimetype": "text/x-python",
   "name": "python",
   "nbconvert_exporter": "python",
   "pygments_lexer": "ipython3",
   "version": "3.11.9"
  }
 },
 "nbformat": 4,
 "nbformat_minor": 2
}
