{
 "cells": [
  {
   "cell_type": "markdown",
   "metadata": {},
   "source": [
    "## LangGraph Basic Components"
   ]
  },
  {
   "cell_type": "markdown",
   "metadata": {},
   "source": [
    "### State"
   ]
  },
  {
   "cell_type": "code",
   "execution_count": 1,
   "metadata": {},
   "outputs": [],
   "source": [
    "from langgraph.graph import StateGraph, START, END\n",
    "from pydantic import BaseModel\n",
    "\n",
    "\n",
    "# The overall state of the graph (this is the public state shared across nodes)\n",
    "class OverallState(BaseModel):\n",
    "    today_signal: bool = None\n",
    "    current_answer: str = None"
   ]
  },
  {
   "cell_type": "markdown",
   "metadata": {},
   "source": [
    "### Nodes"
   ]
  },
  {
   "cell_type": "code",
   "execution_count": 2,
   "metadata": {},
   "outputs": [],
   "source": [
    "def node_1(state):\n",
    "    print(\"---Node 1---\")\n",
    "    state.current_answer = \"I am \"\n",
    "    return state\n",
    "\n",
    "def node_2(state):\n",
    "    print(\"---Node 2---\")\n",
    "    state.current_answer += \"happy!\"\n",
    "    return state\n",
    "\n",
    "def node_3(state):\n",
    "    print(\"---Node 3---\")\n",
    "    state.current_answer += \"sad!\"\n",
    "    return state"
   ]
  },
  {
   "cell_type": "markdown",
   "metadata": {},
   "source": [
    "### Edges"
   ]
  },
  {
   "cell_type": "code",
   "execution_count": 3,
   "metadata": {},
   "outputs": [],
   "source": [
    "from typing import Literal\n",
    "\n",
    "def decide_mood(state) -> Literal[\"node_2\", \"node_3\"]:\n",
    "    # Often, we will use state to decide on the next node to visit\n",
    "    if state.today_signal == True:\n",
    "        return \"node_2\"\n",
    "    \n",
    "    else:\n",
    "        return \"node_3\""
   ]
  },
  {
   "cell_type": "markdown",
   "metadata": {},
   "source": [
    "### Graph Construction"
   ]
  },
  {
   "cell_type": "code",
   "execution_count": 4,
   "metadata": {},
   "outputs": [],
   "source": [
    "from langgraph.graph import StateGraph, START, END\n",
    "\n",
    "# Build graph\n",
    "builder = StateGraph(OverallState)\n",
    "builder.add_node(\"node_1\", node_1)\n",
    "builder.add_node(\"node_2\", node_2)\n",
    "builder.add_node(\"node_3\", node_3)\n",
    "\n",
    "# Logic\n",
    "builder.add_edge(START, \"node_1\")\n",
    "builder.add_conditional_edges(\"node_1\", decide_mood)\n",
    "builder.add_edge(\"node_2\", END)\n",
    "builder.add_edge(\"node_3\", END)\n",
    "\n",
    "# Add\n",
    "graph = builder.compile()"
   ]
  },
  {
   "cell_type": "markdown",
   "metadata": {},
   "source": [
    "### Show Graph"
   ]
  },
  {
   "cell_type": "code",
   "execution_count": 5,
   "metadata": {},
   "outputs": [
    {
     "data": {
      "image/png": "[encoded data removed]",
      "text/plain": [
       "<IPython.core.display.Image object>"
      ]
     },
     "metadata": {},
     "output_type": "display_data"
    }
   ],
   "source": [
    "from IPython.display import Image, display\n",
    "display(Image(graph.get_graph().draw_mermaid_png()))"
   ]
  },
  {
   "cell_type": "markdown",
   "metadata": {},
   "source": [
    "### Graph Invocation (Running the Graph)"
   ]
  },
  {
   "cell_type": "code",
   "execution_count": 6,
   "metadata": {},
   "outputs": [
    {
     "name": "stdout",
     "output_type": "stream",
     "text": [
      "---Node 1---\n",
      "---Node 3---\n"
     ]
    },
    {
     "data": {
      "text/plain": [
       "{'today_signal': False, 'current_answer': 'I am sad!'}"
      ]
     },
     "execution_count": 6,
     "metadata": {},
     "output_type": "execute_result"
    }
   ],
   "source": [
    "user_input = OverallState(today_signal=False)\n",
    "graph.invoke(user_input)"
   ]
  },
  {
   "cell_type": "code",
   "execution_count": 9,
   "metadata": {},
   "outputs": [
    {
     "name": "stdout",
     "output_type": "stream",
     "text": [
      "---Node 1---\n",
      "---Node 2---\n"
     ]
    },
    {
     "data": {
      "text/plain": [
       "{'today_signal': True, 'current_answer': 'I am happy!'}"
      ]
     },
     "execution_count": 9,
     "metadata": {},
     "output_type": "execute_result"
    }
   ],
   "source": [
    "user_input = OverallState(today_signal=True)\n",
    "graph.invoke(user_input)"
   ]
  },
  {
   "cell_type": "markdown",
   "metadata": {},
   "source": [
    "### LangGraph Simple Math Example"
   ]
  },
  {
   "cell_type": "code",
   "execution_count": 7,
   "metadata": {},
   "outputs": [],
   "source": [
    "from typing import TypedDict\n",
    "\n",
    "class MyState(TypedDict):\n",
    "    number1: float\n",
    "    number2: float\n",
    "    result: float"
   ]
  },
  {
   "cell_type": "code",
   "execution_count": 10,
   "metadata": {},
   "outputs": [],
   "source": [
    "def node_init(state: \"MyState\") -> \"MyState\":\n",
    "    \"\"\"\n",
    "    A simple initialization node. \n",
    "    Maybe set up initial result to 0 or just print something for debugging.\n",
    "    \"\"\"\n",
    "    print(\"---Node Init---\")\n",
    "    state[\"result\"] = 0\n",
    "    return state\n",
    "\n",
    "def node_add(state: \"MyState\") -> \"MyState\":\n",
    "    \"\"\"\n",
    "    This node adds number1 and number2, storing the result in state['result'].\n",
    "    \"\"\"\n",
    "    print(\"---Node Add---\")\n",
    "    total = state[\"number1\"] + state[\"number2\"]\n",
    "    state[\"result\"] = total\n",
    "    return state\n",
    "\n",
    "def node_multiply(state: \"MyState\") -> \"MyState\":\n",
    "    \"\"\"\n",
    "    This node multiplies number1 and number2, storing the result in state['result'].\n",
    "    \"\"\"\n",
    "    print(\"---Node Multiply---\")\n",
    "    product = state[\"number1\"] * state[\"number2\"]\n",
    "    state[\"result\"] = product\n",
    "    return state\n",
    "\n",
    "def node_divide_by_two(state: \"MyState\") -> \"MyState\":\n",
    "    \"\"\"\n",
    "    This node divides number1 by number2, storing the result in state['result'].\n",
    "    \"\"\"\n",
    "    print(\"---Node Divide---\")\n",
    "    state[\"result\"] = state[\"result\"] / 2\n",
    "    return state\n"
   ]
  },
  {
   "cell_type": "code",
   "execution_count": 11,
   "metadata": {},
   "outputs": [],
   "source": [
    "# edges.py\n",
    "from typing import Literal\n",
    "\n",
    "def decide_operation(state: \"MyState\") -> Literal[\"node_add\", \"node_multiply\"]:\n",
    "    if (state[\"number1\"] + state[\"number2\"]) > 10:\n",
    "        return \"node_multiply\"\n",
    "    else:\n",
    "        return \"node_add\"\n"
   ]
  },
  {
   "cell_type": "code",
   "execution_count": 15,
   "metadata": {},
   "outputs": [],
   "source": [
    "# graph_construction.py\n",
    "from langgraph.graph import StateGraph, START, END\n",
    "\n",
    "# 1) Build the graph with StateGraph, indicating MyState as the type for state\n",
    "builder = StateGraph(MyState)\n",
    "\n",
    "# 2) Add nodes\n",
    "builder.add_node(\"node_init\", node_init)\n",
    "builder.add_node(\"node_add\", node_add)\n",
    "builder.add_node(\"node_multiply\", node_multiply)\n",
    "builder.add_node(\"node_divide_by_two\", node_divide_by_two)\n",
    "\n",
    "# 3) Add edges\n",
    "#    START -> node_init\n",
    "builder.add_edge(START, \"node_init\")\n",
    "\n",
    "#    node_init -> either node_add or node_multiply based on decide_operation\n",
    "builder.add_conditional_edges(\"node_init\", decide_operation)\n",
    "\n",
    "#    node_add -> node_divide_by_two -> END\n",
    "builder.add_edge(\"node_add\", \"node_divide_by_two\")\n",
    "builder.add_edge(\"node_divide_by_two\", END)\n",
    "\n",
    "#    node_multiply -> END\n",
    "builder.add_edge(\"node_multiply\", END)\n",
    "\n",
    "# 4) Compile the graph\n",
    "graph = builder.compile()\n"
   ]
  },
  {
   "cell_type": "code",
   "execution_count": 16,
   "metadata": {},
   "outputs": [
    {
     "data": {
      "image/png": "[encoded data removed]",
      "text/plain": [
       "<IPython.core.display.Image object>"
      ]
     },
     "metadata": {},
     "output_type": "display_data"
    }
   ],
   "source": [
    "# 5) Visualize (optional)\n",
    "from IPython.display import Image, display\n",
    "display(Image(graph.get_graph().draw_mermaid_png()))"
   ]
  },
  {
   "cell_type": "code",
   "execution_count": 13,
   "metadata": {},
   "outputs": [
    {
     "name": "stdout",
     "output_type": "stream",
     "text": [
      "---Node Init---\n",
      "---Node Add---\n",
      "---Node Divide---\n",
      "Final State: {'number1': 2.0, 'number2': 7.0, 'result': 4.5}\n"
     ]
    }
   ],
   "source": [
    "#This dictionary must match MyState's keys and expected types.\n",
    "user_input = {\n",
    "    \"number1\": 2.0,\n",
    "    \"number2\": 7.0,\n",
    "}\n",
    "\n",
    "final_state = graph.invoke(user_input)\n",
    "print(\"Final State:\", final_state)"
   ]
  }
 ],
 "metadata": {
  "kernelspec": {
   "display_name": ".venv",
   "language": "python",
   "name": "python3"
  },
  "language_info": {
   "codemirror_mode": {
    "name": "ipython",
    "version": 3
   },
   "file_extension": ".py",
   "mimetype": "text/x-python",
   "name": "python",
   "nbconvert_exporter": "python",
   "pygments_lexer": "ipython3",
   "version": "3.11.9"
  }
 },
 "nbformat": 4,
 "nbformat_minor": 2
}
