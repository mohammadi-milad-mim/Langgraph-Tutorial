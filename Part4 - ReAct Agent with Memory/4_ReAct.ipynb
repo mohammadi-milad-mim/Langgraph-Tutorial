{
 "cells": [
  {
   "cell_type": "markdown",
   "metadata": {},
   "source": [
    "# ReAct Agent"
   ]
  },
  {
   "cell_type": "markdown",
   "metadata": {},
   "source": [
    "### ChatModel"
   ]
  },
  {
   "cell_type": "code",
   "execution_count": 1,
   "metadata": {},
   "outputs": [],
   "source": [
    "import os\n",
    "from langchain_openai import ChatOpenAI\n",
    "\n",
    "AVALAI_BASE_URL = \"https://api.avalai.ir/v1\"\n",
    "GPT_MODEL_NAME = \"gpt-4o-mini\"\n",
    "\n",
    "gpt4o_chat = ChatOpenAI(model=GPT_MODEL_NAME,\n",
    "                        base_url=AVALAI_BASE_URL,\n",
    "                        api_key=os.environ[\"AVALAI_API_KEY\"])"
   ]
  },
  {
   "cell_type": "markdown",
   "metadata": {},
   "source": [
    "### Tools"
   ]
  },
  {
   "cell_type": "code",
   "execution_count": 2,
   "metadata": {},
   "outputs": [],
   "source": [
    "def multiply(a: int, b: int) -> int:\n",
    "    \"\"\"Multiply a and b.\n",
    "\n",
    "    Args:\n",
    "        a: first int\n",
    "        b: second int\n",
    "    \"\"\"\n",
    "    return a * b\n",
    "\n",
    "# This will be a tool\n",
    "def add(a: int, b: int) -> int:\n",
    "    \"\"\"Adds a and b.\n",
    "\n",
    "    Args:\n",
    "        a: first int\n",
    "        b: second int\n",
    "    \"\"\"\n",
    "    return a + b\n",
    "\n",
    "def divide(a: int, b: int) -> float:\n",
    "    \"\"\"Divide a and b.\n",
    "\n",
    "    Args:\n",
    "        a: first int\n",
    "        b: second int\n",
    "    \"\"\"\n",
    "    return a / b"
   ]
  },
  {
   "cell_type": "markdown",
   "metadata": {},
   "source": [
    "### Search Tool"
   ]
  },
  {
   "cell_type": "code",
   "execution_count": 3,
   "metadata": {},
   "outputs": [],
   "source": [
    "import os\n",
    "from langchain_community.tools.tavily_search import TavilySearchResults\n",
    "\n",
    "def search_tool(query: str):\n",
    "    \"\"\"Search the web for the query.\n",
    "    Args:\n",
    "        query: The query to search for.\n",
    "    \"\"\"\n",
    "    print(\"-----------SEARCHING Tool----------\")\n",
    "    print(\"searching for\", query)\n",
    "    results = TavilySearchResults(max_results=3).invoke(query)\n",
    "    print(\"results\", results)\n",
    "    return results"
   ]
  },
  {
   "cell_type": "markdown",
   "metadata": {},
   "source": [
    "### Bind ChatModel with Tools"
   ]
  },
  {
   "cell_type": "code",
   "execution_count": 4,
   "metadata": {},
   "outputs": [],
   "source": [
    "tools = [add, multiply, divide, search_tool]\n",
    "llm_with_tools = gpt4o_chat.bind_tools(tools)"
   ]
  },
  {
   "cell_type": "markdown",
   "metadata": {},
   "source": [
    "### Define State"
   ]
  },
  {
   "cell_type": "code",
   "execution_count": 6,
   "metadata": {},
   "outputs": [],
   "source": [
    "from langgraph.graph import MessagesState"
   ]
  },
  {
   "cell_type": "markdown",
   "metadata": {},
   "source": [
    "### Define Nodes"
   ]
  },
  {
   "cell_type": "code",
   "execution_count": 7,
   "metadata": {},
   "outputs": [],
   "source": [
    "from langchain_core.messages import HumanMessage, SystemMessage\n",
    "sys_msg = SystemMessage(\n",
    "    content=\"You are a helpful assistant tasked with using search and performing arithmetic on a set of inputs.\")\n",
    "\n",
    "def reasoner(state: MessagesState):\n",
    "    print(\"-------------Reasoner----------------\")\n",
    "    messages = [sys_msg] + state[\"messages\"]\n",
    "    response = llm_with_tools.invoke(messages)\n",
    "    print(\"Response: \")\n",
    "    print(response)\n",
    "    return {\"messages\": [response]}"
   ]
  },
  {
   "cell_type": "markdown",
   "metadata": {},
   "source": [
    "### Langgraph 'ToolNode' and 'tools_condition'"
   ]
  },
  {
   "cell_type": "code",
   "execution_count": 8,
   "metadata": {},
   "outputs": [],
   "source": [
    "from langgraph.graph import START, StateGraph\n",
    "from langgraph.prebuilt import tools_condition\n",
    "from langgraph.prebuilt import ToolNode\n",
    "\n",
    "# Graph\n",
    "builder = StateGraph(MessagesState)\n",
    "\n",
    "# Add nodes\n",
    "builder.add_node(\"reasoner\", reasoner)\n",
    "builder.add_node(\"tools\", ToolNode(tools))\n",
    "\n",
    "# Add edges\n",
    "builder.add_edge(START, \"reasoner\")\n",
    "builder.add_conditional_edges(\n",
    "    \"reasoner\",\n",
    "    # If the latest message (result) from node reasoner is a tool call -> tools_condition routes to tools\n",
    "    # If the latest message (result) from node reasoner is a not a tool call -> tools_condition routes to END\n",
    "    tools_condition,\n",
    ")\n",
    "builder.add_edge(\"tools\", \"reasoner\")\n",
    "react_graph = builder.compile()"
   ]
  },
  {
   "cell_type": "code",
   "execution_count": 9,
   "metadata": {},
   "outputs": [
    {
     "data": {
      "image/png": "[encoded data removed]",
      "text/plain": [
       "<IPython.core.display.Image object>"
      ]
     },
     "metadata": {},
     "output_type": "display_data"
    }
   ],
   "source": [
    "from IPython.display import Image, display\n",
    "\n",
    "# Display the graph\n",
    "display(Image(react_graph.get_graph(xray=True).draw_mermaid_png()))"
   ]
  },
  {
   "cell_type": "markdown",
   "metadata": {},
   "source": [
    "### Run Agent"
   ]
  },
  {
   "cell_type": "code",
   "execution_count": 10,
   "metadata": {},
   "outputs": [
    {
     "name": "stdout",
     "output_type": "stream",
     "text": [
      "-------------Reasoner----------------\n",
      "Response: \n",
      "content='' additional_kwargs={'tool_calls': [{'id': 'call_MdC2nl0YSOuepU6UH2Pv39IL', 'function': {'arguments': '{\"query\":\"Milad Mohammadi age\"}', 'name': 'search_tool'}, 'type': 'function'}], 'refusal': None} response_metadata={'token_usage': {'completion_tokens': 19, 'prompt_tokens': 172, 'total_tokens': 191, 'completion_tokens_details': {'accepted_prediction_tokens': 0, 'audio_tokens': 0, 'reasoning_tokens': 0, 'rejected_prediction_tokens': 0}, 'prompt_tokens_details': {'audio_tokens': 0, 'cached_tokens': 0}}, 'model_name': 'gpt-4o-mini-2024-07-18', 'system_fingerprint': 'fp_5154047bf2', 'finish_reason': 'tool_calls', 'logprobs': None} id='run-b7c91fb5-1dae-43b6-9a8f-3ff451e3c0e1-0' tool_calls=[{'name': 'search_tool', 'args': {'query': 'Milad Mohammadi age'}, 'id': 'call_MdC2nl0YSOuepU6UH2Pv39IL', 'type': 'tool_call'}] usage_metadata={'input_tokens': 172, 'output_tokens': 19, 'total_tokens': 191, 'input_token_details': {'audio': 0, 'cache_read': 0}, 'output_token_details': {'audio': 0, 'reasoning': 0}}\n",
      "-----------SEARCHING Tool----------\n",
      "searching for Milad Mohammadi age\n",
      "results [{'url': 'https://www.transfermarkt.com/milad-mohammadi/profil/spieler/333355', 'content': 'Milad Mohammadi - Player profile 24/25 | Transfermarkt Player agents Most valuable players in the world Player agents 4 Milad Mohammadi Position: Left-Back Player data Left-Back Name in home country: ميلاد محمدی کشمرزی Date of birth/Age: Sep 29, 1993 (31) Place of birth: Tehran\\xa0\\xa0\\xa0\\xa0 Height: 1,78\\xa0m Citizenship: \\xa0\\xa0\\xa0\\xa0Iran Position: Defender - Left-Back Foot: left Player agent: Relatives Current club: Persepolis FC Joined: Aug 19, 2024 Contract expires: Jun 30, 2026 Social-Media: Stats of Milad Mohammadi National team career Iran Go to national player profile Compare Milad Mohammadi with ... Compare players Which player do you prefer... Milad Mohammadi   Oston Urunov  Most valuable players in the world Latest transfers Latest rumours Latest market value updates FIFA World Ranking Betting'}, {'url': 'https://en.wikipedia.org/wiki/Milad_Mohammadi', 'content': 'Milad Mohammadi Keshmarzi, known as Milad Mohammadi (Persian: ميلاد محمدی کشمرزی; born 29 September 1993) is an Iranian professional footballer who plays for Persian Gulf Pro League club Persepolis and the Iranian national team. Milad Mohammadi joined Rah Ahan in the summer of 2014 with a five–year contract[4] and made his debut for them in the first fixture of the 2014–15 Iran Pro League against Esteghlal.[5] On 6 February 2016 Mohammadi signed a contract with Russian Premier League club Terek Grozny until 2019.[7][8] Milad made his debut for Terek Grozny as a substitute on 2 April 2016 in a 3–2 win over Anzhi Makhachkala.[9] Mohammadi scored his first goal for Terek and his first ever professional league goal on 29 April 2017 in a 5–2 victory against Ural Yekaterinburg.'}, {'url': 'https://www.famousbirthdays.com/people/milad-mohammadi.html', 'content': 'Milad Mohammadi - Age, Family, Bio | Famous Birthdays Milad Mohammadi Soccer Player Iranian professional football player best known for his work with the Russian football club Akhmat Grozny. The following year he played on the Iran under 23 national team. His twin brother Mehrdad is also a professional football player known for his work with the Sepahan club in the Persian Gulf Pro League. Most Popular #243,004 First Name Milad #7 September 29 Soccer Player #19 Last Name Mohammadi #4 Milad Mohammadi Is A Member Of Soccer Players First Name Milad Milad Mohammadi Fans Also Viewed Neymar Soccer Player Mohamed Salah Soccer Player Harry Kane Soccer Player Paul Pogba Soccer Player Privacy Privacy Manager'}]\n",
      "-------------Reasoner----------------\n",
      "Response: \n",
      "content='' additional_kwargs={'tool_calls': [{'id': 'call_F49vUPujHzwd1nX9P9NuRuZv', 'function': {'arguments': '{\"a\":31,\"b\":2}', 'name': 'multiply'}, 'type': 'function'}], 'refusal': None} response_metadata={'token_usage': {'completion_tokens': 18, 'prompt_tokens': 849, 'total_tokens': 867, 'completion_tokens_details': {'accepted_prediction_tokens': 0, 'audio_tokens': 0, 'reasoning_tokens': 0, 'rejected_prediction_tokens': 0}, 'prompt_tokens_details': {'audio_tokens': 0, 'cached_tokens': 0}}, 'model_name': 'gpt-4o-mini-2024-07-18', 'system_fingerprint': 'fp_0aa8d3e20b', 'finish_reason': 'tool_calls', 'logprobs': None} id='run-257fab21-eeda-4a6c-a69e-cbe475a7c65e-0' tool_calls=[{'name': 'multiply', 'args': {'a': 31, 'b': 2}, 'id': 'call_F49vUPujHzwd1nX9P9NuRuZv', 'type': 'tool_call'}] usage_metadata={'input_tokens': 849, 'output_tokens': 18, 'total_tokens': 867, 'input_token_details': {'audio': 0, 'cache_read': 0}, 'output_token_details': {'audio': 0, 'reasoning': 0}}\n",
      "-------------Reasoner----------------\n",
      "Response: \n",
      "content='Milad Mohammadi is 31 years old, so 2 times his age is 62.' additional_kwargs={'refusal': None} response_metadata={'token_usage': {'completion_tokens': 23, 'prompt_tokens': 874, 'total_tokens': 897, 'completion_tokens_details': {'accepted_prediction_tokens': 0, 'audio_tokens': 0, 'reasoning_tokens': 0, 'rejected_prediction_tokens': 0}, 'prompt_tokens_details': {'audio_tokens': 0, 'cached_tokens': 0}}, 'model_name': 'gpt-4o-mini-2024-07-18', 'system_fingerprint': 'fp_0aa8d3e20b', 'finish_reason': 'stop', 'logprobs': None} id='run-78c96d12-b503-484d-a32d-ffd283f0d55a-0' usage_metadata={'input_tokens': 874, 'output_tokens': 23, 'total_tokens': 897, 'input_token_details': {'audio': 0, 'cache_read': 0}, 'output_token_details': {'audio': 0, 'reasoning': 0}}\n"
     ]
    }
   ],
   "source": [
    "messages = [HumanMessage(content=\"What is 2 times Milad Mohammadi's age?\")]\n",
    "messages = react_graph.invoke({\"messages\": messages})"
   ]
  },
  {
   "cell_type": "code",
   "execution_count": 11,
   "metadata": {},
   "outputs": [
    {
     "name": "stdout",
     "output_type": "stream",
     "text": [
      "================================\u001b[1m Human Message \u001b[0m=================================\n",
      "\n",
      "What is 2 times Milad Mohammadi's age?\n",
      "==================================\u001b[1m Ai Message \u001b[0m==================================\n",
      "Tool Calls:\n",
      "  search_tool (call_MdC2nl0YSOuepU6UH2Pv39IL)\n",
      " Call ID: call_MdC2nl0YSOuepU6UH2Pv39IL\n",
      "  Args:\n",
      "    query: Milad Mohammadi age\n",
      "=================================\u001b[1m Tool Message \u001b[0m=================================\n",
      "Name: search_tool\n",
      "\n",
      "[{\"url\": \"https://www.transfermarkt.com/milad-mohammadi/profil/spieler/333355\", \"content\": \"Milad Mohammadi - Player profile 24/25 | Transfermarkt Player agents Most valuable players in the world Player agents 4 Milad Mohammadi Position: Left-Back Player data Left-Back Name in home country: ميلاد محمدی کشمرزی Date of birth/Age: Sep 29, 1993 (31) Place of birth: Tehran     Height: 1,78 m Citizenship:     Iran Position: Defender - Left-Back Foot: left Player agent: Relatives Current club: Persepolis FC Joined: Aug 19, 2024 Contract expires: Jun 30, 2026 Social-Media: Stats of Milad Mohammadi National team career Iran Go to national player profile Compare Milad Mohammadi with ... Compare players Which player do you prefer... Milad Mohammadi   Oston Urunov  Most valuable players in the world Latest transfers Latest rumours Latest market value updates FIFA World Ranking Betting\"}, {\"url\": \"https://en.wikipedia.org/wiki/Milad_Mohammadi\", \"content\": \"Milad Mohammadi Keshmarzi, known as Milad Mohammadi (Persian: ميلاد محمدی کشمرزی; born 29 September 1993) is an Iranian professional footballer who plays for Persian Gulf Pro League club Persepolis and the Iranian national team. Milad Mohammadi joined Rah Ahan in the summer of 2014 with a five–year contract[4] and made his debut for them in the first fixture of the 2014–15 Iran Pro League against Esteghlal.[5] On 6 February 2016 Mohammadi signed a contract with Russian Premier League club Terek Grozny until 2019.[7][8] Milad made his debut for Terek Grozny as a substitute on 2 April 2016 in a 3–2 win over Anzhi Makhachkala.[9] Mohammadi scored his first goal for Terek and his first ever professional league goal on 29 April 2017 in a 5–2 victory against Ural Yekaterinburg.\"}, {\"url\": \"https://www.famousbirthdays.com/people/milad-mohammadi.html\", \"content\": \"Milad Mohammadi - Age, Family, Bio | Famous Birthdays Milad Mohammadi Soccer Player Iranian professional football player best known for his work with the Russian football club Akhmat Grozny. The following year he played on the Iran under 23 national team. His twin brother Mehrdad is also a professional football player known for his work with the Sepahan club in the Persian Gulf Pro League. Most Popular #243,004 First Name Milad #7 September 29 Soccer Player #19 Last Name Mohammadi #4 Milad Mohammadi Is A Member Of Soccer Players First Name Milad Milad Mohammadi Fans Also Viewed Neymar Soccer Player Mohamed Salah Soccer Player Harry Kane Soccer Player Paul Pogba Soccer Player Privacy Privacy Manager\"}]\n",
      "==================================\u001b[1m Ai Message \u001b[0m==================================\n",
      "Tool Calls:\n",
      "  multiply (call_F49vUPujHzwd1nX9P9NuRuZv)\n",
      " Call ID: call_F49vUPujHzwd1nX9P9NuRuZv\n",
      "  Args:\n",
      "    a: 31\n",
      "    b: 2\n",
      "=================================\u001b[1m Tool Message \u001b[0m=================================\n",
      "Name: multiply\n",
      "\n",
      "62\n",
      "==================================\u001b[1m Ai Message \u001b[0m==================================\n",
      "\n",
      "Milad Mohammadi is 31 years old, so 2 times his age is 62.\n"
     ]
    }
   ],
   "source": [
    "for m in messages['messages']:\n",
    "    m.pretty_print()"
   ]
  },
  {
   "cell_type": "markdown",
   "metadata": {},
   "source": [
    "### Memory Problem"
   ]
  },
  {
   "cell_type": "code",
   "execution_count": 12,
   "metadata": {},
   "outputs": [
    {
     "name": "stdout",
     "output_type": "stream",
     "text": [
      "-------------Reasoner----------------\n",
      "Response: \n",
      "content='Could you please provide the number you would like to multiply by 2?' additional_kwargs={'refusal': None} response_metadata={'token_usage': {'completion_tokens': 16, 'prompt_tokens': 165, 'total_tokens': 181, 'completion_tokens_details': {'accepted_prediction_tokens': 0, 'audio_tokens': 0, 'reasoning_tokens': 0, 'rejected_prediction_tokens': 0}, 'prompt_tokens_details': {'audio_tokens': 0, 'cached_tokens': 0}}, 'model_name': 'gpt-4o-mini-2024-07-18', 'system_fingerprint': 'fp_5154047bf2', 'finish_reason': 'stop', 'logprobs': None} id='run-7d09597a-f751-462b-8280-f34dfbceac70-0' usage_metadata={'input_tokens': 165, 'output_tokens': 16, 'total_tokens': 181, 'input_token_details': {'audio': 0, 'cache_read': 0}, 'output_token_details': {'audio': 0, 'reasoning': 0}}\n",
      "================================\u001b[1m Human Message \u001b[0m=================================\n",
      "\n",
      "Multiply that by 2.\n",
      "==================================\u001b[1m Ai Message \u001b[0m==================================\n",
      "\n",
      "Could you please provide the number you would like to multiply by 2?\n"
     ]
    }
   ],
   "source": [
    "messages = [HumanMessage(content=\"Multiply that by 2.\")]\n",
    "messages = react_graph.invoke({\"messages\": messages})\n",
    "for m in messages['messages']:\n",
    "    m.pretty_print()"
   ]
  },
  {
   "cell_type": "markdown",
   "metadata": {},
   "source": [
    "### Memory"
   ]
  },
  {
   "cell_type": "code",
   "execution_count": 13,
   "metadata": {},
   "outputs": [],
   "source": [
    "from langgraph.checkpoint.memory import MemorySaver\n",
    "memory = MemorySaver()\n",
    "react_graph_memory = builder.compile(checkpointer=memory)\n",
    "# Specify a thread\n",
    "config = {\"configurable\": {\"thread_id\": \"1\"}}"
   ]
  },
  {
   "cell_type": "markdown",
   "metadata": {},
   "source": [
    "### Usuing Memory Saver"
   ]
  },
  {
   "cell_type": "code",
   "execution_count": 14,
   "metadata": {},
   "outputs": [
    {
     "name": "stdout",
     "output_type": "stream",
     "text": [
      "-------------Reasoner----------------\n",
      "Response: \n",
      "content='' additional_kwargs={'tool_calls': [{'id': 'call_9alAMuFKWMMH6uoBo3BBUyQj', 'function': {'arguments': '{\"query\":\"Milad Mohammadi age 2023\"}', 'name': 'search_tool'}, 'type': 'function'}], 'refusal': None} response_metadata={'token_usage': {'completion_tokens': 22, 'prompt_tokens': 172, 'total_tokens': 194, 'completion_tokens_details': {'accepted_prediction_tokens': 0, 'audio_tokens': 0, 'reasoning_tokens': 0, 'rejected_prediction_tokens': 0}, 'prompt_tokens_details': {'audio_tokens': 0, 'cached_tokens': 0}}, 'model_name': 'gpt-4o-mini-2024-07-18', 'system_fingerprint': 'fp_0aa8d3e20b', 'finish_reason': 'tool_calls', 'logprobs': None} id='run-6ac72152-33fa-4f29-96c0-185298ea21fb-0' tool_calls=[{'name': 'search_tool', 'args': {'query': 'Milad Mohammadi age 2023'}, 'id': 'call_9alAMuFKWMMH6uoBo3BBUyQj', 'type': 'tool_call'}] usage_metadata={'input_tokens': 172, 'output_tokens': 22, 'total_tokens': 194, 'input_token_details': {'audio': 0, 'cache_read': 0}, 'output_token_details': {'audio': 0, 'reasoning': 0}}\n",
      "-----------SEARCHING Tool----------\n",
      "searching for Milad Mohammadi age 2023\n",
      "results [{'url': 'https://www.soccerbase.com/players/player.sd?player_id=90345', 'content': \"Milad Mohammadi. (Born 29 Sep, 1993) Defender for Adana Demirspor. Current season & career stats available, including appearances, goals & transfer fees. ... Milad Mohammadi: Age: 31 (Born 29 Sep, 1993) Height: Weight: Place of birth: Tehran, IR Iran: Nationality: ... 2023; Competitions . Whether it's the Johnstone's Paint Trophy or the\"}, {'url': 'https://www.transfermarkt.co.uk/milad-mohammadi/profil/spieler/333355/from/', 'content': 'Milad Mohammadi, 30, from Iran Adana Demirspor, since 2023 Defender Market value: €1.20m * Sep 29, 1993 in Tehran, Iran ... Milad Mohammadi. 1 1. Adana Demirspor ... 2024 Contract expires: Jun 30, 2026. championat.com + Date of birth/Age: Sep 29, 1993 (30) Place of birth: Tehran'}, {'url': 'https://www.teammelli.com/player/milad-mohammadi/', 'content': '5 Milad Mohammadi # 5 Name Milad Mohammadi Nationality Iran Position Defender Date of Birth 29.Sep.93 Debut Age 21 Debut Date 11.Jun.15 Place of Birth Tehran Current Club Adana Demirspor (TUR) Height 178 Weight 73 Current Team Iran Competitions AFC Asian Cup 2019, Friendly International, FIFA World Cup 2022 Qualifiers, AFC Asian Cup 2023, FIFA'}]\n",
      "-------------Reasoner----------------\n",
      "Response: \n",
      "content='' additional_kwargs={'tool_calls': [{'id': 'call_XrHt5YxRbphR2jXND4AQi4WX', 'function': {'arguments': '{\"a\":31,\"b\":2}', 'name': 'multiply'}, 'type': 'function'}], 'refusal': None} response_metadata={'token_usage': {'completion_tokens': 17, 'prompt_tokens': 578, 'total_tokens': 595, 'completion_tokens_details': {'accepted_prediction_tokens': 0, 'audio_tokens': 0, 'reasoning_tokens': 0, 'rejected_prediction_tokens': 0}, 'prompt_tokens_details': {'audio_tokens': 0, 'cached_tokens': 0}}, 'model_name': 'gpt-4o-mini-2024-07-18', 'system_fingerprint': 'fp_5154047bf2', 'finish_reason': 'tool_calls', 'logprobs': None} id='run-48376e9d-a259-41f4-b088-010795cf9db5-0' tool_calls=[{'name': 'multiply', 'args': {'a': 31, 'b': 2}, 'id': 'call_XrHt5YxRbphR2jXND4AQi4WX', 'type': 'tool_call'}] usage_metadata={'input_tokens': 578, 'output_tokens': 17, 'total_tokens': 595, 'input_token_details': {'audio': 0, 'cache_read': 0}, 'output_token_details': {'audio': 0, 'reasoning': 0}}\n",
      "-------------Reasoner----------------\n",
      "Response: \n",
      "content='Milad Mohammadi is 31 years old. Therefore, 2 times his age is 62.' additional_kwargs={'refusal': None} response_metadata={'token_usage': {'completion_tokens': 24, 'prompt_tokens': 603, 'total_tokens': 627, 'completion_tokens_details': {'accepted_prediction_tokens': 0, 'audio_tokens': 0, 'reasoning_tokens': 0, 'rejected_prediction_tokens': 0}, 'prompt_tokens_details': {'audio_tokens': 0, 'cached_tokens': 0}}, 'model_name': 'gpt-4o-mini-2024-07-18', 'system_fingerprint': 'fp_0aa8d3e20b', 'finish_reason': 'stop', 'logprobs': None} id='run-0b135eff-9aae-42f9-8926-9721169c9eae-0' usage_metadata={'input_tokens': 603, 'output_tokens': 24, 'total_tokens': 627, 'input_token_details': {'audio': 0, 'cache_read': 0}, 'output_token_details': {'audio': 0, 'reasoning': 0}}\n",
      "================================\u001b[1m Human Message \u001b[0m=================================\n",
      "\n",
      "What is 2 times Milad Mohammadi's age?\n",
      "==================================\u001b[1m Ai Message \u001b[0m==================================\n",
      "Tool Calls:\n",
      "  search_tool (call_9alAMuFKWMMH6uoBo3BBUyQj)\n",
      " Call ID: call_9alAMuFKWMMH6uoBo3BBUyQj\n",
      "  Args:\n",
      "    query: Milad Mohammadi age 2023\n",
      "=================================\u001b[1m Tool Message \u001b[0m=================================\n",
      "Name: search_tool\n",
      "\n",
      "[{\"url\": \"https://www.soccerbase.com/players/player.sd?player_id=90345\", \"content\": \"Milad Mohammadi. (Born 29 Sep, 1993) Defender for Adana Demirspor. Current season & career stats available, including appearances, goals & transfer fees. ... Milad Mohammadi: Age: 31 (Born 29 Sep, 1993) Height: Weight: Place of birth: Tehran, IR Iran: Nationality: ... 2023; Competitions . Whether it's the Johnstone's Paint Trophy or the\"}, {\"url\": \"https://www.transfermarkt.co.uk/milad-mohammadi/profil/spieler/333355/from/\", \"content\": \"Milad Mohammadi, 30, from Iran Adana Demirspor, since 2023 Defender Market value: €1.20m * Sep 29, 1993 in Tehran, Iran ... Milad Mohammadi. 1 1. Adana Demirspor ... 2024 Contract expires: Jun 30, 2026. championat.com + Date of birth/Age: Sep 29, 1993 (30) Place of birth: Tehran\"}, {\"url\": \"https://www.teammelli.com/player/milad-mohammadi/\", \"content\": \"5 Milad Mohammadi # 5 Name Milad Mohammadi Nationality Iran Position Defender Date of Birth 29.Sep.93 Debut Age 21 Debut Date 11.Jun.15 Place of Birth Tehran Current Club Adana Demirspor (TUR) Height 178 Weight 73 Current Team Iran Competitions AFC Asian Cup 2019, Friendly International, FIFA World Cup 2022 Qualifiers, AFC Asian Cup 2023, FIFA\"}]\n",
      "==================================\u001b[1m Ai Message \u001b[0m==================================\n",
      "Tool Calls:\n",
      "  multiply (call_XrHt5YxRbphR2jXND4AQi4WX)\n",
      " Call ID: call_XrHt5YxRbphR2jXND4AQi4WX\n",
      "  Args:\n",
      "    a: 31\n",
      "    b: 2\n",
      "=================================\u001b[1m Tool Message \u001b[0m=================================\n",
      "Name: multiply\n",
      "\n",
      "62\n",
      "==================================\u001b[1m Ai Message \u001b[0m==================================\n",
      "\n",
      "Milad Mohammadi is 31 years old. Therefore, 2 times his age is 62.\n"
     ]
    }
   ],
   "source": [
    "messages = [HumanMessage(content=\"What is 2 times Milad Mohammadi's age?\")]\n",
    "messages = react_graph.invoke({\"messages\": messages},config)\n",
    "for m in messages['messages']:\n",
    "    m.pretty_print()"
   ]
  },
  {
   "cell_type": "code",
   "execution_count": 16,
   "metadata": {},
   "outputs": [
    {
     "ename": "SyntaxError",
     "evalue": "invalid syntax (2230136041.py, line 2)",
     "output_type": "error",
     "traceback": [
      "\u001b[0;36m  Cell \u001b[0;32mIn[16], line 2\u001b[0;36m\u001b[0m\n\u001b[0;31m    messages = react_graph.invoke({\"messages\": messages}, config=)\u001b[0m\n\u001b[0m                                                                 ^\u001b[0m\n\u001b[0;31mSyntaxError\u001b[0m\u001b[0;31m:\u001b[0m invalid syntax\n"
     ]
    }
   ],
   "source": [
    "messages = [HumanMessage(content=\"Multiply that by 2.\")]\n",
    "messages = react_graph.invoke({\"messages\": messages}, config)\n",
    "for m in messages['messages']:\n",
    "    m.pretty_print()"
   ]
  }
 ],
 "metadata": {
  "kernelspec": {
   "display_name": ".venv",
   "language": "python",
   "name": "python3"
  },
  "language_info": {
   "codemirror_mode": {
    "name": "ipython",
    "version": 3
   },
   "file_extension": ".py",
   "mimetype": "text/x-python",
   "name": "python",
   "nbconvert_exporter": "python",
   "pygments_lexer": "ipython3",
   "version": "3.11.9"
  }
 },
 "nbformat": 4,
 "nbformat_minor": 2
}
